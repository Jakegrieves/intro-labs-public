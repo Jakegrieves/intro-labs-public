{
 "cells": [
  {
   "cell_type": "markdown",
   "metadata": {},
   "source": [
    "# Lab 5: Text Classification\n",
    "\n",
    "This lab explores a new dataset for text classification tasks using naïve Bayes and logistic regression.\n",
    "\n",
    "### Learning Outcomes\n",
    "* Be able to train and test naïve Bayes and logistic regression classifiers using scikit-learn.\n",
    "* Know how to apply evaluation metrics to the classifiers and display examples of misclassifications.\n",
    "* Be able to examine learned model parameters and explain how each classifier makes a decision.\n",
    "\n",
    "### Outline\n",
    "\n",
    "1. Load a new Twitter dataset, which is described in [this paper](https://arxiv.org/pdf/2010.12421.pdf), then extracts feature vectors from each sample.\n",
    "1. Training and evaluating naïve Bayes using Scikit-learn.\n",
    "1. Training and evaluating logistic regression using Scikit-learn.\n",
    "1. Optional extension: lemmatization and bigram features.\n",
    "1. Optional extensions: lexicon features.\n",
    "\n",
    "### How To Complete This Lab\n",
    "\n",
    "Read the text and the code then look for 'TODOs' that instruct you to complete some missing code. Look out for 'QUESTIONS' which you should try to answer before moving on to the next cell. Aim to work through the lab during the scheduled lab hours. To get help, you can talk to TAs or the lecturer during the labs, post questions to Blackboard (anonymously) or on Teams in the QA channel (with your name), or ask a question in the Wednesday live sessions. \n",
    "\n",
    "As you work through the notebooks, please make a note of any code that is unclear to you.\n",
    "\n",
    "The labs *will not be marked*. However, they will prepare you for the coursework, so try to keep up with the weekly labs and have fun with the exercises! To understand what's going on inside the methods we use here, make sure to watch the lecture videos for the same week."
   ]
  },
  {
   "cell_type": "markdown",
   "metadata": {},
   "source": [
    "# 1. Preparing the Data \n",
    "\n",
    "This time we are using part of the Tweet Eval dataset, which contains seven Twitter datasets for various social media classification tasks. Here, we'll focus on the sentiment analysis data. \n",
    "Run the code below to download the data from [HuggingFace's datasets hub](https://huggingface.co/datasets/tweet_eval):"
   ]
  },
  {
   "cell_type": "code",
   "execution_count": 2,
   "metadata": {},
   "outputs": [
    {
     "name": "stderr",
     "output_type": "stream",
     "text": [
      "Reusing dataset tweet_eval (./data_cache\\tweet_eval\\sentiment\\1.1.0\\12aee5282b8784f3e95459466db4cdf45c6bf49719c25cdb0743d71ed0410343)\n"
     ]
    },
    {
     "name": "stdout",
     "output_type": "stream",
     "text": [
      "Training dataset with 45615 instances loaded\n"
     ]
    }
   ],
   "source": [
    "from datasets import load_dataset\n",
    "\n",
    "cache_dir = \"./data_cache\"\n",
    "\n",
    "# The data is already divided into training and test sets.\n",
    "# Load the training set:\n",
    "train_dataset = load_dataset(\n",
    "    \"tweet_eval\",\n",
    "    name=\"sentiment\",\n",
    "    split=\"train\",\n",
    "    #ignore_verifications=True,\n",
    "    cache_dir=cache_dir,\n",
    ")\n",
    "print(f\"Training dataset with {len(train_dataset)} instances loaded\")"
   ]
  },
  {
   "cell_type": "code",
   "execution_count": 3,
   "metadata": {},
   "outputs": [
    {
     "name": "stderr",
     "output_type": "stream",
     "text": [
      "Reusing dataset tweet_eval (./data_cache\\tweet_eval\\sentiment\\1.1.0\\12aee5282b8784f3e95459466db4cdf45c6bf49719c25cdb0743d71ed0410343)\n"
     ]
    },
    {
     "name": "stdout",
     "output_type": "stream",
     "text": [
      "Test dataset with 12284 instances loaded\n"
     ]
    }
   ],
   "source": [
    "# Load the test set:\n",
    "test_dataset = load_dataset(\n",
    "    \"tweet_eval\",\n",
    "    name=\"sentiment\",\n",
    "    split=\"test\",\n",
    "    #ignore_verifications=True,\n",
    "    cache_dir=cache_dir,\n",
    ")\n",
    "print(f\"Test dataset with {len(test_dataset)} instances loaded\")"
   ]
  },
  {
   "cell_type": "markdown",
   "metadata": {},
   "source": [
    "Let's take a look at one of the instances in the training set:"
   ]
  },
  {
   "cell_type": "code",
   "execution_count": 4,
   "metadata": {},
   "outputs": [
    {
     "data": {
      "text/plain": [
       "{'text': '\"QT @user In the original draft of the 7th book, Remus Lupin survived the Battle of Hogwarts. #HappyBirthdayRemusLupin\"',\n",
       " 'label': 2}"
      ]
     },
     "execution_count": 4,
     "metadata": {},
     "output_type": "execute_result"
    }
   ],
   "source": [
    "train_dataset[0]"
   ]
  },
  {
   "cell_type": "markdown",
   "metadata": {},
   "source": [
    "The next step is to tokenise the text of each tweet and convert it to a bag of words, ready for input to a classifier. \n",
    "To do this, we will use the scikit-learn library. "
   ]
  },
  {
   "cell_type": "code",
   "execution_count": 5,
   "metadata": {},
   "outputs": [],
   "source": [
    "# Put the data into lists ready for the next steps...\n",
    "train_tweets = [sample['text'] for sample in train_dataset]\n",
    "train_labels = [sample['label'] for sample in train_dataset]"
   ]
  },
  {
   "cell_type": "code",
   "execution_count": 6,
   "metadata": {},
   "outputs": [],
   "source": [
    "test_tweets = [sample['text'] for sample in test_dataset]\n",
    "test_labels = [sample['label'] for sample in test_dataset]"
   ]
  },
  {
   "cell_type": "markdown",
   "metadata": {},
   "source": [
    "To extract a bag of words, we can use the CountVectorizer class ([documentation](https://scikit-learn.org/stable/modules/generated/sklearn.feature_extraction.text.CountVectorizer.html)).\n",
    "This class outputs the bag of words as a feature vector, where the length of the vector is equal to the size of the vocabulary, and the values are the counts of each words in a document. \n",
    "\n",
    "Run the code below to obtain feature vectors for the training and test samples:"
   ]
  },
  {
   "cell_type": "code",
   "execution_count": 9,
   "metadata": {
    "collapsed": false,
    "jupyter": {
     "outputs_hidden": false
    },
    "pycharm": {
     "name": "#%%\n"
    }
   },
   "outputs": [],
   "source": [
    "from sklearn.feature_extraction.text import CountVectorizer\n",
    "from nltk import word_tokenize\n",
    "\n",
    "# CountVectorizer can do its own tokenization, but for consistency we want to\n",
    "# carry on using WordNetTokenizer. We write a small wrapper class to enable this:\n",
    "class Tokenizer(object):\n",
    "    def __call__(self, tweets):\n",
    "        return word_tokenize(tweets)"
   ]
  },
  {
   "cell_type": "code",
   "execution_count": 12,
   "metadata": {},
   "outputs": [
    {
     "data": {
      "text/plain": [
       "['\"QT @user In the original draft of the 7th book, Remus Lupin survived the Battle of Hogwarts. #HappyBirthdayRemusLupin\"',\n",
       " '\"Ben Smith / Smith (concussion) remains out of the lineup Thursday, Curtis #NHL #SJ\"',\n",
       " 'Sorry bout the stream last night I crashed out but will be on tonight for sure. Then back to Minecraft in pc tomorrow night.',\n",
       " \"Chase Headley's RBI double in the 8th inning off David Price snapped a Yankees streak of 33 consecutive scoreless innings against Blue Jays\",\n",
       " '@user Alciato: Bee will invest 150 million in January, another 200 in the Summer and plans to bring Messi by 2017\"',\n",
       " \"@user LIT MY MUM 'Kerry the louboutins I wonder how many Willam owns!!! Look Kerry Warner Wednesday!'\",\n",
       " '\"\\\\\"\"\"\" SOUL TRAIN\\\\\"\"\"\" OCT 27 HALLOWEEN SPECIAL ft T.dot FINEST rocking the mic...CRAZY CACTUS NIGHT CLUB ..ADV ticket $10 wt out costume $15...\"',\n",
       " 'So disappointed in wwe summerslam! I want to see john cena wins his 16th title',\n",
       " '\"This is the last Sunday w/o football .....,NFL is back baby\"',\n",
       " \"@user @user CENA & AJ sitting in a tree K-I-S-S-I-N-G 1st goes AJ's  job then John's cred then goes Vicki with the GM position.\",\n",
       " '@user Well said on HMW. Can you now address why Texans fans file out of the stadium midway through the 4th qtr of every game?',\n",
       " \"Just said hello to Dennis Kucinich as he walked casually through campus with his #hotwife. He's on 22nd st!\",\n",
       " 'Super excited for homecoming Saturday with Monroe! :D my new nephew is here but I can\\\\u2019t see him :(',\n",
       " 'That sucks if you have to take the SATs tomorrow',\n",
       " '@user  6 tickets for Sam smith concert  Sept 30 cheap! Flew our family of 6 here fir the concert! BEYOND UPSET!',\n",
       " '\"Fiorentina have reportedly opened talks with Chelsea over taking the 20yr old Kurt Zuoma on loan in January.\"',\n",
       " 'Creighton Volleyball leads 8-5 early in 2nd set. Match becomes even bigger with both Wichita St. & Missouri State down 0-1 at home tonight.',\n",
       " \"This time tomorrow...we'll have the Iron on. Iron Maiden pieces Drops tomorrow nights.\",\n",
       " \"Amy Schumer sat down with The Hollywood Reporter and opened up about the sexist remarks and unnecessary criticism she's faced since\",\n",
       " \"What is Jamie Foxx doing sitting next to Niall like you could've sat in a better spot just saying lol\",\n",
       " '@user @user 1st uneasyness was when he got v defensive about the Charlie Hebdo stuff, even tho he had pals patiently explaining\"',\n",
       " 'Reminder: Samsung Unveils the Galaxy Note 5 and S6 Edge+ Tomorrow Morning! - - #tech #news...',\n",
       " '\"Gonna do a movie marathon with my friend today and tomorrow. Twilight, New Moon, Eclipse, BD1, The Runaways, Adventureland, (c)\"',\n",
       " 'Oscars Well makes his debut over fences at Punchestown tomorrow. It looks as though he\\\\u2019ll have Plan A and Darwins Fox to overcome.',\n",
       " 'Q2 10:30. Philip Rivers pass to Eddie Royal to the San Diego 19 for 7 yards. 3rd & 1.',\n",
       " '@user Work colleague of mine on Thursday night: \"\"oh, look, they\\'re showing the Bee Gees on video.\"\" 23-yr old colleague: \"\"who?\"\"\"',\n",
       " \"Who's going to get them Gucci foams tomorrow\",\n",
       " 'Yes glass of red\\\\u002c Rammstein and day off tomorrow (thank you @user just what I needed.',\n",
       " 'Vampettes we are back on the 21st place keep tweeting with the hashtag #MTVStars The Vamps #MTVStarsOf2015',\n",
       " 'Ryan Braun returned to the lineup on Wednesday after missing two games with lower back tightness.',\n",
       " '\"#Ichiro has nothing. If you want to see hustle: Kenny Lofton, 17 October 1995, scores from second base on a past ball. #GoTribe #ALDS\"',\n",
       " 'Looking forward to going to Carrow Rd tonight. Last time we were there\\\\u002c Bale scored 2 and we were 3rd. Do not want extra time though',\n",
       " 'Gonna go to the north game tomorrow night. I better see some of you north kiddos',\n",
       " 'Right guys\\\\u002c last competition of the night... Like this status for a chance to win a copy of Judas Priest\\\\u2019s 30th...',\n",
       " 'We\\\\u2019re in the studio working on the new album and it sounds EPIC. We may as well pick up our Brit Award now\\\\u002c tbh.',\n",
       " '\"last day of august, waiting for frank ocean to pull a beyonce.',\n",
       " '#INFO --> Grand opening sharetea bubble tea with @user 2 nov 2012 mall taman anggrek 11:00 - 14:00 * Jadwal ke-1 besok !',\n",
       " 'Sunday (tomorrow) is National Ice Cream Day and have we got a gift for you!   Join us for an ice cream sundae and...',\n",
       " 'Gucci pants himself store january lay open the span thine atomic irruptive concomitant so that cons comburent:...',\n",
       " 'still not over how Nicki snapped like a 12th grader on their last day of high school',\n",
       " 'I may or may not buy myself the illustrated version of Harry potter for my birthday',\n",
       " 'I wanna see STUDIO FOOTAGE SO BAD. We are about to hear some unreleased STUFF! Likeeeeeeeeee I can\\\\u2019t wait until Sunday.',\n",
       " '@user how the hell does every one else get to keep their religious and 1st amnt rights, except Christians!!! This is just wrong!!!\"',\n",
       " 'A @user rule change should allow Carly Fiorina to earn a spot on the main stage for the 2nd Republican debate.',\n",
       " '\"TFI Friday doesn\\'t look like it\\'s coming back, as Chris Evans focuses on new-look Top Gear',\n",
       " '#np The Way You Make Me Feel - 2012 Remaster by Michael Jackson from the album Bad 25th Anniversary.',\n",
       " '\"I\\'m going to see Paper Towns. Saturday, 22 August 2015 at 17:40 in Leigh #Cineworld\"',\n",
       " '@user Yepo I came in Milan it was my 1st concert and it was so good you guys did an amazing job! You are flawless live like PERFECT!',\n",
       " '#days #dool Tuesday Hope has to pick up Ciara. Rafe wants a real case not just publicity like Justin',\n",
       " 'Seth Rollins talks &amp; talks every Monday on RAW for about 45 minutes',\n",
       " 'Thanks manager for putting me on the schedule for Sunday\"',\n",
       " \"I'm sat at work just laughing at all these Hulk Hogan tweets. Hahha ffs\",\n",
       " \"@user #MLBCentral David Wright crushing a dinger on his first swing since April 14th. I didn't think he would pull a Wilmer Flores!\",\n",
       " 'I feel like the new Janet Jackson single is bringing back 90s R&amp;B. via @user',\n",
       " 'Anyone want to see Sam smith with me on October 6th?',\n",
       " 'This Friday OUTHOUSE is playing at Still Partners in Sea Cliff ! Hop on the Expressway to Nirvana!',\n",
       " '\"You can\\'t shit talk Kpop. Every group is so in sync and vocally on point. It may not be your thing, but it\\'s talent.\"',\n",
       " 'I hope Milan mom say that she can come over on the 28th',\n",
       " 'Don\\\\u2019t forget Mitch Daniels is going to be on Steven Colbert\\\\u2019s show Thursday.  Think this will come up as a topic?',\n",
       " \"Amazon prime is literally a lie....I ordered a book LAST MONDAY &amp; it still isn't here. do better @user\",\n",
       " 'Who the hell moshes at Matt and Kim?? Next time watch out for my face\\\\u002c mofos! My cheekbones better not be purple tomorrow. @user',\n",
       " '\"What a difference not having Sterling on the pitch makes! Welbeck dragged wide 1st half, the Ox replaces Sterling, Welbeck down middle, goal\"',\n",
       " '\"Dear lovely Christians, I wish to inform you, tomorrow we got one Mass @ 10am as we\\'ll be submitting our parish family day collection!\"',\n",
       " '\"To Kpop fans, we song along to vocals, 2nd voices, raps, fanchants, do the instruments &amp; even perform its own choreo',\n",
       " 'Cherie Blair is sat on our coach going to the games! #Olympics2012',\n",
       " 'continued : Emmanuel Adebayor has not travelled with the squad for our Europa League away tie in Greece tomorrow evening.',\n",
       " \"Mario Williams is catching hell! He will be Exposed on Sunday... Not like Buffalo don't see him 4 who he is Already!\",\n",
       " '\"Kris Bryant hurt, Joe Maddon ejected in today\\'s Cubs game, and it\\'s only the 6th inning.',\n",
       " '@user Last Wednesday, when I saw you dressed as Robin, all I can think about is \"Who\\'s Batman? Where\\'s the Teen Titans?\"',\n",
       " '@user Brock lesnar live from madison square garden sounds like it could just be a live feed of him sat on a chair for 3 hours',\n",
       " '@user Frank ocean releasing his second album december 31st 2015 on new years eve. heres the interview...',\n",
       " '@user @user at da end of da night no girl that roll with me is on da MTA! They are above that as long as I can afford that!',\n",
       " '@user SCOTUS based their argument on the 14th. No matter how you stretch it race was not involved.',\n",
       " \"My mom's over here tryna tell me that we're taking the CAHSEE tomorrow ._. Nigga it's only the second month of school.. #SlowYourRoll\",\n",
       " '\"Rahul Gandhi held Indian citizenship from day one: Congress: New Delhi, Nov 18: Dismissing BJP leader Subraman...',\n",
       " '\"I\\'m going to Paramore at Rock Im Park in Nuremburg, Germany - Jun 8',\n",
       " 'Happy Birthday Nick J  May you live long and Happy :)',\n",
       " 'ECHO: Sex offender is warned he may face jail over offences #Dorset',\n",
       " 'I hope Bernie Sanders is a sun and the other two are shooting stars or black holes.',\n",
       " '\"Shows how much you can trust drivers answering these questions. Alonso was still saying on Monday that Ferrari split is \"\"\"\"just a rumor.\"\"\"\" #F1\"',\n",
       " 'Who else is going to the Chris brown tour this Thursday #ChrisBrown#onehellofanighttour',\n",
       " 'Your inspirational quotes on twitter/Feb never really got to me. But oh damn ur pics of them on IG have truly inspired me. #idiots\"',\n",
       " 'Another beauty of a day in Athens\\\\u002c Greece. I trust you\\\\u2019ll have an exceptional Friday wherever in the world you are. Much love.',\n",
       " '\"Another great night in Split, off to Hvar on the 8:30 ferry tomorrow morning... dreading the packing but excited to get there!\"',\n",
       " \"@user and im seeing Ed live this Saturday at b'ham NIA! It would be amazing to get the book signed. Thanks for putting it together\",\n",
       " '\"Church tonight, who will you bring????\"',\n",
       " 'Q_Q Today was the day that Naruto shippuden: UNS4 was suppose to come out. WHYYYYYYY DID THEY PUSH IT ALL THE WAY TO JAN???? HELLO',\n",
       " 'Pics of the March Fourth Marching Band at the Oregon Country Fair closing out the show Sunday night. Their...',\n",
       " 'The audio booth is ready to blow the roof off the Comcast Center tomorrow! Are you? #MDMadness',\n",
       " 'welllll who wants to see Ed Sheeran with me on the 17th????',\n",
       " 'GOALdotCOM: Premier League Team of the Week: Van Persie & Aguero both star after City & Arsenal wins',\n",
       " \"The Hitchhiker's Guide to the Galaxy Game - 30th Anniversary Edition Need to sign up with the BBC online.\",\n",
       " \"I'm seeing Ed Sheeran on Wednesday in Miami so if you wanna meet up or say hi hmu!\",\n",
       " '\"Chuck Close shares his best-kept secrets with @user on the eve of his new show, opening Thursday @user',\n",
       " 'Vermaelen the hero for Barca: Thomas Vermaelen was the unlikely hero as Barcelona laboured to a 1-0 home win over Malaga on Saturday ...',\n",
       " '@user I\\\\u2019m sick with something ill be at school on Monday though',\n",
       " '\"There\\'s something about Friday Night Lights, you just get chills thinking about it .\"',\n",
       " 'Googled the snake I stepped over on the trail Sunday. Baby timber rattler. So time to Google \"snake-proof hiking boots.\"',\n",
       " '@user Also, his anger against Hindus are justified but couldn\\'t get why he was so anti Islam..may be he was just fed up of religions\"',\n",
       " 'Ricky Ponting and I now have something in common. Today he passed 23\\\\u002c000 1st class runs. Last night at training\\\\u002c i was hit for 23\\\\u002c000 runs.',\n",
       " 'Ted Nugent talks to us about #hunting and other stuff he\\\\u2019s got on his mind @user this Saturday at 7am on the Great Outdoors\\\\u002c #nuge',\n",
       " 'Check out Newsha Tavakolian at the Saatchi Gallery in London. Her photos of Iran may interest some of you!',\n",
       " \"Mansbridge destroyed Justin tonite the polls for the lib's should tank tomorrow! Wake up people he is NOT ready!!\",\n",
       " 'For the ones tomorrow sunday in Milan (Italy): Aperitif and evening at Fiat Open Lounge:',\n",
       " '\"J\\'regarde des infos sur Ragnarok (le film) &amp;bon: \"\"Thor will make it out of the third movie[..]Loki, on the other hand may not be so Lucky.\"\"\"',\n",
       " '@user Donald trump said the same thing about the tax rate.  Fact check said he was a liar \"pant of fire\"',\n",
       " '\"If you\\\\u2019re calling this little thing right here a \\\\\"\"\"\"party\\\\\"\"\"\" then Friday night\\\\u2019s gonna be Project X\\\\u002c Y\\\\u002c & Z.\"',\n",
       " '\"Love this vid!! 1st time I\\\\u2019ve seen it!--- jules explains it all - David Archuleta sings \\\\\"\"\"\"Nandito Ako.\\\\\"\"\"\" via @user',\n",
       " '@user @user Not just Christians, you are in the prayers of \"\"all of us\"\" humans.May you stay safe and be free soon!God bless.\"',\n",
       " 'Happy birthday @user ! National Bieber Day . Now he\\\\u2019s 18th years\\\\u002c but he\\\\u2019s #stillkidrauhl #IndonesiaSaysHBDforJustinBieber',\n",
       " '\"If you put one over the plate he\\'s gonna fuck you up  Called it, Kris Bryant with his 21st\"',\n",
       " 'Good luck to Girls Tennis as the take on South Torrance today on 1st round CIF! #GoLions2012',\n",
       " '\"\\\\\"\"Hey\\\\u002c you\\\\u2019re missing Beauty and the Beast\\\\u002c Vampire Diaries & Grey\\\\u2019s Anatomy right now on TV. Saturday is Merlin\\\\\"\" - @user #sisterlife\"',\n",
       " 'Decided to watch Rick and Morty will probably watch Naruto tomorrow such a good movie hits ya right in the feels',\n",
       " \"first Hasek now Modano want to come back...who's next Mario Lemieux for the 4th time!\",\n",
       " '@user isn\\\\u2019t it just!  staying in and watching the lovely James Martin on Saturday kitchen. Great pumpkin soup recipe to warm u up',\n",
       " '@user how was your day today? Did you enjoy watching softball. We missed you on tiger woods',\n",
       " 'And to think I wrote this Dustin Johnson Tweet after the second round of the British Open',\n",
       " \"Just Turned the corner into Ghetto n #Roma 1st thing I saw a group of Muslims! Now that's tourism for ya. It's a sm world after all #peace\",\n",
       " \"Be sure to look for Nash's new video with Skylynn tomorrow #NashNewVideo love you @user\",\n",
       " 'Who wants to be my date to the White Sox vs Red Sox game Tuesday',\n",
       " \"At long last, Lexus has developed a hoverboard, the 'Slide,' to be tested in public for the first time on Wed.\",\n",
       " 'I noticed all the Huddlestone haters were conspicuous by their absence yesterday\\\\u002c particularly when he assisted Bale for the 1st goal #THFC',\n",
       " 'Unexpected development-- saw Ant-Man on Saturday night in London. It was surprisingly charming. I actually quite enjoyed it.',\n",
       " '\"Tomorrow is Star Wars day! New movie! And is @user and @user birthday! Great, isn\\'t? @user',\n",
       " 'Sun is shining... Bob Marley on the radio... hiya Monday!',\n",
       " '\"Hope, Love &amp; Laughter; Warmth, Prosperity &amp; Joy; A fragrant bouquet filled with life; You may Enjoy! A very happy Eid -\"',\n",
       " \"'Frank Ocean' appeared on Sunday 16 at the 11th place in the Top20 of Dallas-Ft. Worth's Trends: #trndnl\",\n",
       " '\"Also may take years to figure out if the song reaching #1 or John Cena co-opting \"\"I Can\\'t Feel My Face\"\" as his signature tagline is stranger\"',\n",
       " \"Yakub death may be unfortunate bt we shud respect SC's decision n not vitiate atmosphere in the name of religion #YakubToHang #YakubVerdict\",\n",
       " 'Its the 1st video without zayn and its still perf #DragMeDownMusicVideo',\n",
       " \"Has anyone ever seen @user and Iron Maiden's Bruce Dickinson together in the same room?\",\n",
       " 'Why does everyone want to give Eli Manning credit for every win. The truth is Sunday\\\\u2019s game should have been a blowout.',\n",
       " \"The pics were taken on a 2004 Nokia, and it's really blurry and may induce cataracts. Just a heads up.\",\n",
       " \"I think this was the first night of Louis with Briana? (That's not her tho) I saved it on April 17 but I DK\",\n",
       " 'On Monday im going to eat so much you might as well call me Jordan and Ally. Im so fucking hungry.',\n",
       " '\"Be prepared to listen about Nicki and Miley tomorrow at school, or maybe Kanye\"',\n",
       " '@user I just wonder how peter is the 1st pope when the Romans crucified him 200 years before Christianity was legalized in Rome',\n",
       " \"Sky : Melo and Perisic are set to debut in the Inter shirt against Milan in next Sunday's derby. Icardi is also probable.\",\n",
       " '@user You really want to go there? He had a gr8 Milan team from 03 to 06. He finished 1st, 2nd and 2nd to a team that was relegated 4..\"',\n",
       " '\"Christianity is nothing else but the imitation of God\\\\u2019s nature.  We seek a relationship with God through Jesus ...\\\\\"\"\"\"Lord that I may see\\\\\"\"\"\".\"',\n",
       " '\"Wrap-up: Broncos 34, Saints 14:  Thoughts on the New Orleans Saints\\' 34-14 loss to the Denver Broncos on Sunday ...',\n",
       " \"@user big ups SL!!! Copped the 10.5 Gucci's missed out Friday!!!\",\n",
       " '\"Officially going to the Kenny Chesney, Jason Aldean, Brantley Gilbert, and Cole Swindal concert on Saturday!! Excited beyond words!!\"',\n",
       " 'Join @user now for boosted 4/1 Arsenal &amp; Chelsea both to win in the #BPL tomorrow. #AFC #CFC',\n",
       " 'Snoop Dogg is playing at the State Fair on Wednesday and I wANnA GO sOooOoO BAd',\n",
       " '@user Hi, I have a sneaking suspicion Barack Obama and Sarah Palin may be part of the DKEU. Can you find out, please?',\n",
       " '2nd half about to start. No subs for the Red Stars to begin the half. WNY kicking off. 45 to go....',\n",
       " '\"Six good reviews for the new Deus Ex. I\\'m going to pre-order it today, I\\'ve seen enough coverage to know it\\'s going to be worth a look.\"',\n",
       " 'Bob Marley playing in the lab. Happy Saturday!!',\n",
       " 'October day 1 was good :-)  Goodnight taking the CAHSEE tomorrow . Hope i pass :)',\n",
       " '@user yea I was just thinking that! Btw Reece is going to be in Kyle and Jackie O tomorrow I think.... In the studio',\n",
       " 'Our paper needs to be turned into blackboard and Google by midnight on friday it needs to be less than 17 % on blackboard!!! #aumrsch',\n",
       " 'On the bright side tomorrow\\\\u2019s CHOCOLATE DAY #getexcited',\n",
       " \"Imagine if this was clashing with tomorrow's Celebrity Big Brother launch though. I'd be so torn.\",\n",
       " '\"Off to ER, for the Edinburgh Derby, c\\'mon the Hibs\"',\n",
       " 'The verse of Kendrick Lamar on Black Friday.. Listen to that shit with a notebook',\n",
       " 'Randy Orton is going to be in Lawton tomorrow',\n",
       " '\"Oomf is gay. He may not know it yet, but I do lol\"',\n",
       " \"Delhi police says report about Sunanda Pushkar's death inconclusive: Delhi Police said Friday the forensic evi...\",\n",
       " 'Overall...tonight reconfirmed my love for nicki and why I never went back to side bangs after 7th grade',\n",
       " '\"Harper Lee\\'s Go Set a Watchman comes out tomorrow, I just want to call into work so I can read it all day.\"',\n",
       " '@user @user Is Wednesday normally Cascades help day? I might want to make a trip at some point before January 21st.',\n",
       " 'You just got to love Prince George Happy 2nd Birthday !! #princegeorge',\n",
       " 'Yes it is. Bori practitioners have survived by not attempting to abandon Islam. So they blend in easily.',\n",
       " \"AirAsia aborts deal to buy Indonesia's Batavia Air - Southeast Asia's top budget carrier AirAsia said Monday it has ...\",\n",
       " '\"Happy Birthday George, you cutie. Royals celebrate Prince George\\'s 2nd birthday via @user',\n",
       " '\"Frank Gifford, dies at 84 - The Washington Post. I worked with Frank way back at Wide World of Sports. Class Act. RIP',\n",
       " 'Floyd Mayweather is heavy favourite to go 49-0 on the 12th. Bet on the fight here - #Boxing',\n",
       " \"@user @user I'm watching the red carpet for Nicki mostly. They're gonna air the show tomorrow night so I might go to bed after\",\n",
       " '\"Sumlin says he put Kyler Murray in for Kyle Allen during 1st half as a \"\"change of pace quarterback.\"\" That pace: Fast. Murray has some wheels\"',\n",
       " 'My Friday: closet clean out\\\\u002c furniture rearranging\\\\u002c Al Green while taking a bath wrapping it all up with Downton Abbey. #lizlemon',\n",
       " '\"Happy birthday, Hank Williams. In honor if the Hank turning 88, we\\'ll play 88 Hank songs in a row tonite @user #honkytonk\"',\n",
       " \"Which is more interesting unveil tomorrow? $AAPL 6s, Ipad, TV or $TM new Prius? I'm going with Prius.\",\n",
       " \"Sitting 14th row for AC/DC tonight!! Let's go!\",\n",
       " '\"Go Set a Watchman comes out tomorrow! Do you plan to read it?   I have to reread TKAM first, but then I definitely...',\n",
       " \"#RAW Aaaaaand Randy Orton becomes the 3rd person ever to pin Rusev. Whoever's booking Rusev should step down or resign.\",\n",
       " 'Something may be slightly amiss in the NFL when Tim Tebow &amp; Devon Still are cut &amp; Tom Brady is allowed to play.',\n",
       " 'Shawn comes to Vegas the 18th or 19th &amp; I will go to the airport to meet him',\n",
       " '@user I thought it was the football team at 1st until I scrolled down and saw Trey Burke. Lol',\n",
       " 'Muslims will assist Muslims into high positions in the UK.....I think we may be fucked guys.....',\n",
       " '@user Mate\\\\u002c how are you lads enjoying Andy Carroll over there? Can we have him back in January? We\\\\u2019re a bit desperate!',\n",
       " 'A future Big Brother might be able to see you in the dark ..',\n",
       " 'I\\\\u2019m going to Roger Sanchez at Factory in Toronto\\\\u002c Canada - Dec 7',\n",
       " 'During nap time I will: watch the end of Hart of Dixie\\\\u002c set up Activity Corner for tomorrow\\\\u002c & study more genetics stuff. #hotdiggitydog',\n",
       " \"@user @user @user I get it. You're like the caster version of Chuck Norris. You're just waiting for @user Championship Sunday\",\n",
       " 'My little brother comes home with nike elite socks and jordans, when i was in 6th grade i got wilson socks and clearance shoes from Olympia',\n",
       " 'Rousey to fight former boxer - Mixed martial arts star Ronda Rousey said Friday she will face female boxer Holly H...',\n",
       " '\"Tomorrow at work, when people talk to me, I\\'m just going to slap my crotch and twerk in response. See if I get the same reaction Nicki did.\"',\n",
       " '@user   Maby cuz u are sooo good at bowling and they are now scared from u :p  They got sick from u taking the 1st place everytime',\n",
       " 'BIG BANG CONCERT IS TOMORROW. OH MY LORD !! BOO HOO HOOOO )\\\\u2019: *Cries all the 7 seas*',\n",
       " '\" religious liberty\" is defined as religion that Bobby Jindal &amp; Huckabee approve of. Read the constitution!',\n",
       " 'I don\\\\u2019t doubt the 2nd coming will be in Jerusalem AND Missouri\\\\u002c but when is it due?',\n",
       " 'tomorrow I am going to see Sam Smith live and it still is not real to me',\n",
       " '\"rehearsing for Nov 6 \\\\\"\"\"\"@MlTTR0MNEY: just called Jim Leyland to congratulate New York Giants on their victorious baseball match #SFGChamps #p2\"',\n",
       " '\"Bryan sophomore Mykenzi Greenler gets by a Redskins defender Wednesday in Port Clinton. The Golden Bears, the No....',\n",
       " 'Josh Hamilton hits an RBI Double to give the Rangers a 4-2 lead in the 4th!! #Game106',\n",
       " 'Happy 18th Birthday to my boy Kyle!!  Very proud of him!  I would definitely rate him in the top 4 of all my kids!  @user',\n",
       " '\"Best day and weekend trips from Seoul, by season: by Elizabeth EunThere\\'s just so much to see in Seoul, it may t...',\n",
       " 'Amazon Prime day is like going on the 3rd date with a gal, and when you finally get her panties off she got a dick!',\n",
       " '\"Nolan Arenado, Kris Bryant, Manny Machado and Miguel Sano are gonna won the 3rd base spot for the next 5-10 seasons\"',\n",
       " '\"December 5th could be the biggest UFC Card put together. Aldo &amp; McGregor, and Rousey as a co main event with her possibly fighting Cyborg.\"',\n",
       " '\"Where\\'s the sun mommy?\" \"It\\'s asleep like you should be\" \"But Harper\\'s a moon mommy\"  Dammit kid.',\n",
       " '@user Im sure it will replay on NFL network tomorrow too.',\n",
       " \"iPhone 6s Launch: More Details Leak Ahead of Apple's September 9 Event: iPhone 6s launch on Wednesday is just ...\",\n",
       " '@user yep AC/DC tonight at Ford Field then on a plane Thursday to San Diego...',\n",
       " 'What an Amazing Halloween Weekend! A lot of Great costumes! Can\\\\u2019t wait for the big night This Wednesday! Underworld at Cinema!',\n",
       " \"he's 2nd for me behind Danny Elfman who does all of the Tim Burton movies. i love the whimsical music\",\n",
       " '@user Im gr8 jdog!Wouldnt say missing the gills,missing football! The eagles didnt have a good start eh?  Have you done sun dream team?\"',\n",
       " 'Naruto is the 10th Nakama and would be the last Strawhat Crew. Just my opinion. Sorry.',\n",
       " 'Support CEO Keith Bradshaw as he spends a night sleeping at Adelaide Oval on THURSDAY raising money for the homeless',\n",
       " '@user @user yes, download avaiable 30 aug, but after can\\'t play. waiting 1 sep . you read this in PS4  after finish download. good luck\"',\n",
       " 'Social Media Week is right now! Can you tell I\\\\u2019m excited? #SMWVAN I\\\\u2019ll be at the @user event tomorrow\\\\u002c see you there!',\n",
       " 'Rahul Gandhi the kid is planning jail bharo with all his supporters on 19 Dec. Great. The judge will have less trouble arriving at verdict.',\n",
       " 'Babe get your free trial I want to see Beyonce live and Flatbush! @user',\n",
       " \"@user I'm literally struggling as we speak--I'm traveling in March and I listen to soooo much KPop that it's past time!\",\n",
       " 'Did I just see what I think I did on @user Real Madrid signed a 7th old? #wow',\n",
       " \"Honestly, lack of 3rd party support should have been expected. its not the company's fault for not siding with Nintendo\",\n",
       " 'Great sets as well by @user and @user We do it all again Sunday at Rock Im Park. @user @user',\n",
       " \"I started #TheAmericans on Friday courtesy my vacationing cat-owning neighbors with Amazon Prime. Oops. Uh, I'm not paying Amazon myself.\",\n",
       " \"Next sunday I'm going to CiTY Nightclub just to hear @user play.\",\n",
       " '@user May you please show How To Rock from episode 1 and so on.....i cant blieve theres no more how to rock',\n",
       " \"Dunkin tomorrow morning is@the only reason I'm getting out of bed\",\n",
       " \"The Kee to Bala just got Drizzy: Intimate concert in one of greatest venues with rapper @user this Saturday pm in #Muskoka's @user\",\n",
       " '@user May favorite one EVER on iOS is Harbaugh, it autocorrects to Garbage',\n",
       " 'Kevin said the race was like almost like a Sunday drive and he still beat Alonso and the Red Bulls lol',\n",
       " 'Now I kinda regret not going to Bolder on Friday.  #fuckme',\n",
       " '\"Nymburk shouldn\\'t start any more games without floor spacers on the wing position. Need Simmons out there. Raivio 6th man, just fine..\"',\n",
       " '\"White: UFC not going to Dallas in December, Rousey\\'s next fight in Vegas via @user',\n",
       " \"@user just sent you a request off the app. I'll get my PS4 on the 15th\",\n",
       " \"when I go to digi and get a pic with myles and jack G together both kidding my cheek, I may faint ... because that's my goal\",\n",
       " 'Anybody not taking the PSAT want to go to Original House of Pancakes tomorrow morning?',\n",
       " 'Congratulations to 4th ranked WBO featherweight Orlando Cruz!  1st active boxer to come out of the closet. #courage',\n",
       " 'Lol @ when Frank Ocean decides to lowkey drop his album on Spotify and say it was released June 30th  Shits fire tho',\n",
       " 'MTV just played a music video. Heart Shaped Box by Nirvana. On a Saturday morning. That just happened!',\n",
       " '@user 25 March 1972: An IRA volunteer was killed when two IRA units engaged each other in error on the Springfield Road in Belfast.??',\n",
       " 'Monday night RAW opens up with Paul Heyman and Brock Lesnar in the ring and Paul calling for a rematch.  Live...',\n",
       " 'ENDS TOMORROW! Want to win $100 Visa + 5 copies of Paper Towns ? I just entered to win and you can too.',\n",
       " 'LEAVING ON SUNDAY... But I still have a Jason Aldean ticket for $30!!! Let me know if ya want it',\n",
       " 'This may be a fact!! RT @user Curtis painter will help the colts win their first game! U heard it here first!!!',\n",
       " '@user hahahahha fair play see u tomorrow we can tell the time and listen to bob marley together???',\n",
       " '@user fell asleep during Magic Mike XXL.....guess we are just gonna have to rewatch it tomorrow.....daaaarn',\n",
       " '@user most if not all of the sept 11th terrorists were from saudi arabia. they are part of the problem.',\n",
       " \"#RT The 3rd book in The Viking's Apprentice series has been released. Amazon users get it here #amreading\",\n",
       " '@user we just confirmed Nipsey Hussle Dec. 29th @user Hall tix on sale Friday!',\n",
       " 'Iron Maiden tours video game history in 1st new single in five years. The graphics and feel of the games is so good',\n",
       " 'Jets over spent on Decker and sat back like he was Aaron Rodgers',\n",
       " \"Caitlyn Jenner's a new member of the T community -she is working for true self acceptance let's welcome her!\",\n",
       " '\"Saturday movie reviews: \"\"Ant-man\"\" is fun &amp; light while \"\"Woman in Gold\"\" is tugs at the heart',\n",
       " 'just sat in on Bruno Mars interviews',\n",
       " 'I am gonna Meryl Streep the fuck out of this tomorrow',\n",
       " '@user the Charlie Hebdo killers were French, so there\\'s a high possibility these are French too. May as well just shoot everyone...\"',\n",
       " '@user my host moms company had a gala on Monday and all of the Jonas brothers were there ;)',\n",
       " 'If justin and shawn takes a picture tomorrow I will actually have it as my background picture till I die',\n",
       " 'Vikings make sure you wear red tomorrow to show your Viking pride also at the game as well',\n",
       " 'Just caught the end of TFI Friday. Chris Evans is like the Harold Zidler of Wetherspoons.',\n",
       " 'Sorry for no video on Minecraft yesterday. It literally JUST UPLOADED! That video will be up on monday and i think you will enjoy it! :)',\n",
       " 'I really just found out that Kim Kardashian and Kanye had their 2nd baby like 10 days ago. Where the hell have I been? LMAO',\n",
       " '@user just saw it advertising in the telly that The Big Bang Theory starts on the 23rd of October! #yas #TBBT #newseries',\n",
       " \"@user tbh this game is bunk...I just wanna watch Monday's game with Messi\",\n",
       " \"High point. Ice Cube's son was the mvp of this movie. Whoever played Eazy should get 6th man of the year. Whoever casted Snoop shoot them.\",\n",
       " \"Don't forget to support your 2nd fav team tonight boys & girls :))) haha   Newcastle Utd v Bordeaux   ESPN 8pm #toon\",\n",
       " '@user he promised to take me to Milan on Saturday but he didn\\'t step up, hence why he\\'s a fuckboy\"',\n",
       " '\"This Wednesday, beat the cold front @user with a celebration of George Harrison + The Beatles with Here Comes The Sun! Doors 7:30.\"',\n",
       " \"@user @user @user @user :If she's like Michelle Obama that may not be true?\",\n",
       " \"Randy Orton may be leaving WWE if he doesn't get a part-time deal with them! #WWE\",\n",
       " 'the fact that we are going to be Sophia grace and rosie at the studio on tuesday makes me soo happy! @user #accents #cuties',\n",
       " 'Little blurry but this is the crowd I play for every Thursday at Plan B with Madison\\\\u2019s hottest DJ\\\\u002c Brook Bartels',\n",
       " 'Friday the 13th The Series is on Amazon Prime. See you all Monday',\n",
       " 'I can\\'t wait for Donald Trump to get elected president and then end the oath of office with \"live from New York, it\\'s Saturday Night!\"',\n",
       " \"Ben Lederman may well end up being the first American to play for Barca but, for the time being, it sounds like he's heading to Florida.\",\n",
       " '\"No more Denean, Camp Airy tomorrow to see my friends, Dashboard on Sunday with @user and lunch Saturday with @user Yessss.\"',\n",
       " \"I'm going to orientation naked tomorrow\",\n",
       " '\"http://t.co/JJVDi4lW Wednesday\\'s Featured Property of the Day is Knollwood Place Apartments, in...',\n",
       " '\"#80s #Move Alert: Start your Friday with a Bang... no a Boom, \"\"\"\"Baby Boom\"\"\"\" is on @user family in 5min.',\n",
       " 'Planned Parenthood admits it manipulates rules on fetal organ sales to maximize profit - Washington Times',\n",
       " '@user And it\\'s like 1/10th as insane as it was in Dark Souls. I was like \"\"oh, is that all?\"\" lol\"',\n",
       " '1st time to watch PBA. Best Seat on the House!! Thanx sahia! =) @ SMART Araneta Coliseum',\n",
       " 'Van Halen and LL Cool J talk about Michael Jackson (LMJ May 3rd 2013) via @user',\n",
       " '\"MTA agent to me: \\\\\"\"This card has been damanged since yesterday morning.\\\\\"\" Me: \\\\\"\"But I used it last night.\\\\\"\" MTA: \\\\\"\"No you didn\\'t.\\\\\"\"\"',\n",
       " 'Thank you @user @user May God bless and keep our friends and allies in Israel.',\n",
       " 'Followed by Friday up to Redcar to watch Sumer Stroll who if it stays dry will have a belting chance to notch another win. Ventura a danger',\n",
       " 'Going to be heading out tomorrow to check out the Earth Festival in Davis #ImNotAHippie',\n",
       " 'Danee better still match with me tomorrow .',\n",
       " \"I still think they should have let Nicki continue what she was going to say rather then cut her off cuz it may hurt Miley's feelings\",\n",
       " '@user I smirked, I promise not to tease you about it tomorrow lol. Same, lots of Bad Blood though.\"',\n",
       " \"School is over and it's Friday I love life\",\n",
       " '@user I keep 2 cells. 2nd one is the lovely Katbonn K9. Available for under 1.5k. Value for money. Feels like old Nokia. Solid battery.',\n",
       " 'I went crazy when @user went on that run &amp; @user scored &amp; I was sat in the Milan end! #WhatANight',\n",
       " 'Enjoy the 3rd day of Eid with great relish:)',\n",
       " 'September 8: [More] Justin spotted out and about in New York...',\n",
       " 'Downloading Duels for iPad now.  Finally magic on the perfect device.  I may never play MTGO again. #dotp2013',\n",
       " '@user may I have an industrial revolution code for my pre-order of Bioshock Infinite? I got one from the store but cant redeem.',\n",
       " '@user \"\"would absolutely\"\" Now you are coming on MAY 14th. I love you #MTVStars The Vamps',\n",
       " 'Cowboys game this sunday and I dont even like the cowboys lol',\n",
       " 'Hillary whacker @user rehashes the same article he wrote 6 weeks ago. NOT ONE new fact in Sept 7 piece.',\n",
       " \"I saw this during the 1st season of Game of Thrones, so it's not technically their 1st kiss #bb17\",\n",
       " \"@user Bummed We don't get to see Arrow until Saturday because of the Chicago Bulls game.\",\n",
       " \"ALSO GOOD NEWS  i'm going to go see Ant-Man tomorrow /twerktwerk\",\n",
       " \"May or may not be getting ready to watch the very first season EVER of Big Brother. @user I'm so ready to see what Julie looks like!\",\n",
       " 'why is Chris Bosh so fuckin\\\\u2019 ugly -__- the world may never know.',\n",
       " 'My heart hurts I really need to shawn when he goes on my bday to Texas in October I hope I find tickets some how:(',\n",
       " '\"RT @user Sanchez didn\\'t know Plax would sneak in for a play yesterday. \\\\\"\"\"\"I wish I would have hit him,\\\\\"\"\"\" he said. Got pressured by D #nyj\"',\n",
       " 'n VOW is likely to return from a midsummer break in the Prix de Royallieu at Longchamp on Saturday.: Trainer Wil...',\n",
       " 'I saw Paper Towns on Friday with some friends and it was AMAZING! It might have been different from the book but I absolutely loved it!! :D',\n",
       " \"@user June:) Isn't that the one with the outfits from Styled To Rock?\",\n",
       " '\"srsly tho, there has never ever been a pic in Kpop that made same impact on me - 1st time seeing it - as this cover',\n",
       " 'Thursday is National Hot Dog Day! JE will be serving hot dogs to our staff &amp; raising $ for United Way of Manatee! How are you celebrating?',\n",
       " 'So here I am, 00:30 in the morning sat looking for updates on the situation on Twitter and Madonna, material world comes on. Brilliant',\n",
       " 'Kris Bryant with his 15th HR of this season!!! #Cubs lead 3-2.',\n",
       " '#Fantasy Recommendation by @user :Jackie #Bradley Jr. While the Red Sox season may b... #Alarm',\n",
       " '\"The mantra from Republicans to Democrats today is, \\'if you don\\'t like our plan, then where is your plan\\\\\"\"The mantra from Republicans t...\"',\n",
       " '\"Live:Supreme Court approved the death warrant,Yakub will be hanged tomorrow at 7 am in Nagpur Jail@PranabMukherjee@PMNarendraModi\"',\n",
       " '@user @user another center? Gagner is a good cheap 2nd line option that we can afford and keep the kids.',\n",
       " \"explosive resistant passports!!! Charlie Hebdo shootings left ID card in the car. 9/11 plane hijacker's passports found. Paris c'mon.\",\n",
       " \"If you think Nicki's ass is more than 1/8th real you are fuuucked\",\n",
       " 'Rick Perry a certified moron  - he\\'s the real \"cancer\" to use his words - not Trump  via @user',\n",
       " '@user obama\\'s goal is to lead us into 3rd world status, so you\\'re absolutely right, \\\\\"\"obama doesn\\'t care\\\\\"\"\"',\n",
       " 'Biggest game of the match. Even bigger than the 3rd set tie-break. Murray simply had to hold. Please Andy.',\n",
       " '@user is it just me or does \\\\\"\"\"\"Danny\\\\\"\"\"\" seem a lot like Billy Crystal in the first 1/3rd of When Harry Met Sally?\"',\n",
       " 'Yeah well done dickhead so the IRA and KKK are Muslim #narrowmindedprick',\n",
       " \"in other news I'm going to Disneyland tomorrow\",\n",
       " 'Why would you not want to spend all Sunday at a Youth Soccer turnament? Mequon cup Baby. (4100 W Highland Road 128N)',\n",
       " '\"Dear Naked Cyclists, I will not support your campaign if you are putting your sweaty bits on Boris Bikes!',\n",
       " 'We have just won our 1st match in the MYSA international girls tournament! Go girls go',\n",
       " \"@user I know you're gonna rock the fan's tomorrow... why because you're Katy Perry #nocommet\",\n",
       " '\"Entered the Cape Argus Pick n Pay Cycle Tour happening on Sun, 10 Mar 2013! 12th time, going for that elusive 3h30 with @user',\n",
       " 'National News - Oklahoma Wesleyan University Is Now the 2nd Christian College to Leave CCCU Over Hiring of Gay...',\n",
       " '\"Hopefully, Summersville or somewhere tomorrow with my girls. Or something. @user @user',\n",
       " 'MTSU takes a timeout. stops the play clock at :48. They are facing a 3rd down and 9. If they convert its over. If not there is a slim chance',\n",
       " '\"Coldplay, One Republic, Maroon 5, Sam Smith, Ed Sheeran, Oasis, Owl City, Simple Plan, The Fray, Muse, Snow Patrol, Empire of the Sun..\"',\n",
       " 'Who\\\\u2019s on First? 1st down & goal or Ready\\\\u002c Set\\\\u002c Debate? Who is big ratings winner tonight?  - sadly The Bachelor would probably beat all',\n",
       " '\"Sept 8 las Vegas Hard Rock\\\\u002c Randall \\\\\"\"\"\"the KO King\\\\\"\"\"\" Bailey vs Devon Alexander. 37 year old Bailey looking good in his 4 win streak.\"',\n",
       " '@user Happy 2nd Birthday Prince George hope you have a fun day x',\n",
       " '\"Paul McCartney played four Beatles songs for the first time ever on the 4th of May. If you could hear Paul play any song, which would it be?\"',\n",
       " '\"Going up St Andrews tomorrow to caddy Paul Dunne, he needs some advice from a pro\"',\n",
       " 'What Tomato and onion had done to BJP in Delhi\\\\u002c LPG may do the same to Cong in the forthcoming elections...',\n",
       " 'Need to run to the bookstore to pick up a copy of Go Sat a Watchman by Paul Blart. #HappyReading',\n",
       " '\"Charlie Rose with Desmond Tutu; Bill Joy (October 5, 1999): The Archbishop of Cape Town, South Africa and Nobel ...',\n",
       " \"i wish i'd just gone and seen frank ocean in 7th or 8th grade bc i actually could've afforded it then :'-)\",\n",
       " \"@user Which Sunday is Women's Day?? and you get your shirt yet\",\n",
       " \"@user what is going on young man! TEAMLTD misses seeing u on Monday's at The KEE for our 'casual' drinks. Catchup in Toronto soon\",\n",
       " 'watching the VMAs tomorrow just so I can watch Nicki call Miley out on her dumb shit',\n",
       " '\"Report about Sunanda\\'s death inconclusive: Police: New Delhi, Oct 10 : Delhi Police said Friday the forensic e...',\n",
       " '@user First Triforce Heroes, then Twilight Princess HD, and then TLOZ Wii U for the 30th anniversary!\"',\n",
       " 'always pull the gay card cause some exgirlfriends are fucking nuts 4th one in a week',\n",
       " 'Getting off the comp early tonight- going to watch my new Elvis Presley DVD that came today. :)',\n",
       " 'Any1 interested in @user tickets 4 the NIA on the 8th of nov? BLOCK B ROW 13 face value. Inbox me',\n",
       " 'This Friday is the deadline to get your applications in for the Pride Parade!  You can email them to...',\n",
       " '\"At the VMAs, Kanye West Enlivens A Show Built Around Old Narratives TIME-8 hours ago',\n",
       " 'We should have listened to Zayn about the 21st of August',\n",
       " \"@user going to wear my Kenny Lofton '7' shirt to work tomorrow to celebrate the ballot. Psyched! #HOF #LEGEND #GOTRIBE #KENNYLOFTON\",\n",
       " \"I may not be your John Legend to give you All of Me but I will be your Ed Sheeran to love you 'till we're seventy.\",\n",
       " 'Love taking a youtube break next day HD TV will be here and Saturday will be a BEAST VID',\n",
       " \"Is about to go see The Help!!  Can't wait for Final Destination 5 on Friday!!\",\n",
       " \"Niall mentioned San Diego and that's all you really need to know.\",\n",
       " '@user Is Milton Keynes going to be dry on Saturday night Alex? Big gig outdoors watching the mighty Foo Fighters #nobrollies',\n",
       " \"My new sounds: Thank God it's Friday (Prod. By Oracle. Mastered by Stix 'n' Snarez) on #SoundCloud\",\n",
       " \"Josh's T-shirt for Star Wars day in school on Friday.\",\n",
       " 'Rank Among 1st page of Google in 2 weeks with your Website ! SEO  - Full read by eBay',\n",
       " '\"Uncover the Eternal City! Return flights to Rome travel on the 21st January, for 3 nights Augustea, 3 star Hotel...',\n",
       " 'Hillary gets emotional over talking about her mother -  tomorrow #MorningJoe will call her a fake. @user',\n",
       " '@user @user I thought it may have been about John Cena',\n",
       " 'Can you believe that The Salvation Army in Goshen is already working on Pancake Day (November 16) and Christmas...',\n",
       " 'Rick stein has set up his camp in spain - according to saturday kitchen. State the obvious why dont you :-)',\n",
       " \"Going on me hols tomoz so a break on my Sunday routine. I'll be saving the Nirvana ep of @user til Monday at the poolside.\",\n",
       " \"Self: Tis July 16 already. So proud of you for not falling for the Amazon Prime Day sale gimmick!   Other self: D'oh!\",\n",
       " '\"Timezones outside of Canada seem to confuse me, but I\\'m cheering for Tonga in tomorrow\\'s #RWC opener.  At least, I think it\\'s tomorrow.\"',\n",
       " 'my friend is gonna see frank ocean tomorrow and Kanye the day after yall Imma go cry',\n",
       " 'Sarah Palin tore into ESPN on Thursday night, calling the network \"whimpering\" and \"intolerant\" for suspending baseball analyst Curt',\n",
       " '@user ISIS etc, yes. But don\\'t forget that without Islam in Europe the renaissance and our own freedoms may never have happened..,\"',\n",
       " '\"MYSA has closed the Laurel Point fields, due to the weather conditions. All sessions there on Monday are canceled. :(\"',\n",
       " 'Hey @user is you could keep it down while Mastodon plays tomorrow at Bluesfest that would be the best. Thank you for your time.',\n",
       " 'Plant City is babysitting NYC palm trees for the winter. Crap like this cracks me up!',\n",
       " 'Caitlyn Jenner May Face Manslaughter Chargesk!!! the whole story:',\n",
       " 'Listening Bear McCreary Battlestar Galactica\\\\u2019 OST makes me wanna see this amazing tvshow again. One day I\\\\u2019ll see it for the 4th time :P #bsg',\n",
       " 'Check out this great article about our upcoming WARRIOR FUN RUN/WALK on Oct 20 and other KPC activities in The Gazette!',\n",
       " \"Albion write off Nottingham loss: Plymouth Albion winger Jack Arnott says the club will 'write off' Saturday's 3...\",\n",
       " '\"Dustin Pedroia returns to the Red Sox lineup...out since July 22nd...\"\"Win every game the rest of the way we\\'re in.\"\"...A 29 game win streak?\"',\n",
       " '\"RT @user @user wow, you\\'re the reason why 2 topics trended worldwide today. Someone ought to be a happy little owl bunny toniiiight!\"',\n",
       " \"And with Serena's 11th ace she wins the match vs her sister Venus\",\n",
       " '@user I fux wit yo 3rd choice but Gifted Hands (the Ben Carson story) and Alex Haley\\\\u2019s autobiography of Malcolm X my top 2',\n",
       " 'Sulli is my 1st bias the one who brought me into Kpop. I will miss seeing her in F(x) &amp; I will still support her.',\n",
       " 'Whoever replies 1st with the correct answer wins 4 tickets for Sesame Street Live\\\\u002c Sat 10:30am performance at Rupp\\\\u002c and an Elmo plush doll.',\n",
       " \"@user @user @user miss 11yo loves 13th street, BBC crime, etc, news hasn't had an impact yet - she still listens to me\",\n",
       " 'This is only the 4th time wearing my Concords',\n",
       " 'Fuck it\\\\u002c  might go see Reggie tomorrow ...',\n",
       " '@user around what time on Thursday does kissanime upload the new Naruto episode',\n",
       " \"&amp; then Foo Fighters Sunday ...this one is so excited he'll prob poo his pants @user\",\n",
       " \"Harry's touched both lima and niall's dicks(in public) i think he keeps forgetting about the 4th member\",\n",
       " \"ESPN's Chris Mortensen reported that the #Browns fear SLB Scott Fujita's career may be over due to a neck injury. @user\",\n",
       " 'Wtf?.. They got caught in the act! #LiesPeopleAlwaysTell That Pole National Margarita Day Ash Wednesday',\n",
       " '@user hun i am going to Dublin in march, if you do a tour, do not come to Italy (Milan) during the period from the 11th to the 20th pls\"',\n",
       " \"GUYS... GUYS.... Sunday is the VMAs. I recommend you unfollow me now if you don't want tweets about Katy Perry's awesomeness in your feed.\",\n",
       " \"@user @user rad! i leave for israel thursday. i'll get it on kindle. when was warfield around?\",\n",
       " '\"ANKARA, Dec 28 (Reuters) - Turkey sees no normalisation in ties with Israel unless its conditions for ending the Gaza blockade and\"',\n",
       " \"@user Yes, and Cruz is scheming to shut down the gov't in Nov. over Planned Parenthood funding.\",\n",
       " \"August 5th is Work Like a Dog Day. Because sometimes you just have to do what you have to do. Jay-Z said it well: can't knock the hustle!...\",\n",
       " 'Favourite this tweet if you want Seth Rollins to wins or retweet if you want john cena to win tomorrow nigh on summerslam.  Follow for cena.',\n",
       " '\"Moving in tomorrow. Go Tesco near me... And all the takeaways, bars and DMU gym is like just there. No more excuses for me tho. #TeamGetFit\"',\n",
       " \"Caitlyn Jenner opens up about fatal car crash: Jenner's interview with Lauer on Wednesday &amp; Thursday.\",\n",
       " 'Analyst suggests this may be the last big iPhone launch - with @user via @user #AppleEvent',\n",
       " '@user who Yakub was Innocent?? Good bhai.. May be you must vr judge..',\n",
       " '@user they haven\\'t do that right after the February attacks, against Charlie Hebdo do you remember ?\"',\n",
       " '\"Arsenal youngster, Chuba Akpom and Liverpool rising star, Jordon Ibe may snub the Super Eagles following their invitations to England\\'s U21s\"',\n",
       " 'Get the launch schedules for Celebrity Big Brother: #CBB',\n",
       " '@user miss ya to buddy &lt;3 what you saying Monday night ? Down for The Kee wtb #HollaAtMe',\n",
       " 'Just been told by west-point cop that dixie wont be open till friday\\\\u002c Morning or night he wasn\\\\u2019t sure yet.',\n",
       " 'New Jeremy Kyle starts Monday\\\\u002c you bitch I\\\\u2019m back to school then!!',\n",
       " 'Maybe now you guys understand why I changed my name from Save Hannibal Sam to Hannibal Killed Sam on Thursday night #HannibalMicDrop',\n",
       " '\"Ice Cube\\'s son is hella sexy. I may only think that cuz I\\'ve always had a thing for Ice. His son is just more, like, attainable. lol\"',\n",
       " '@user So this is the 4th person on this show that i have seen in commercials. Felisha is the Sprint girl with David Beckham.',\n",
       " \"@user At this rate he'll be on a Nokia 3310 by November.\",\n",
       " 'DST ends this weekend.  We fall back Nov 4 at 2 am. Thanks for @user for the reminder.',\n",
       " \"Regardless of whether they are Muslims. I don't understand the French mayor who says he'll only accept Christians:(\",\n",
       " '\"Did you know? In 1984, President Reagan made July National Ice Cream Month &amp; established National Ice Cream Day the 3rd Sunday in the month!\"',\n",
       " 'Need someone to get the April/May Kris Bryant back to Chicago because his at bats are getting worse',\n",
       " \"What time does Shawn's concert on the 15th start at\",\n",
       " \"@user chillllll Lisa you're gonna go out tomorrow and be Gucci\",\n",
       " 'NFU unchanged for the 4th successive game tonight:  Nicklin\\\\u002c Gardner\\\\u002c Peat\\\\u002c King\\\\u002c Anderson\\\\u002c Hunter\\\\u002c Bolder\\\\u002c Muldoon\\\\u002c Bradshaw & Williams',\n",
       " \"@user Erdogan is a pure nutcase, we all should've seen this a coming, Kick Turkey out of Nato. May God Bless the people of Kurdistan\",\n",
       " 'I love Texas A&M\\\\u002c but any team that drafts Tannehill before the 7th round has lost their minds.',\n",
       " 'A Delhi court said on Tuesday Congress president Sonia Gandhi and Rahul Gandhi will have to appear before it on...',\n",
       " 'Gucci host yourself thought february go ahead the set of two your minute sympathy procurement into diplomat support',\n",
       " \"I may not like the dude but I respect Conor McGregor's humbleness after his win\",\n",
       " 'MSNBC: The NFL season kicks off Thursday night and Tom Brady is set to be on the field:',\n",
       " 'Celebrity Juice. Best thing on about a Thursday',\n",
       " '\"The B-52s Rock the L.A. County Fair With Berlin Featuring Terri Nun, Pomona Fairplex, Fri, Sep 7 @ 7:30pm, 50% OFF,',\n",
       " \"Attention, Queens. I finally found a good copy of Magic Mike XXL so I will be watching it a 3rd and 4th time with whoever hasn't seen it yet\",\n",
       " '@user in Europe country comes 1st b4 club. Incase in missed it Welbeck is on 7goals in all competition.',\n",
       " 'tomorrow gonna be hell yall. though\\\\u002c i am going to the golden modes in chapel hill!',\n",
       " '2 days till Jack White at Alley Pally then I find out the Ruskies need me to work on Saturday. What\\\\u2019s is it like to have a personal life?',\n",
       " 'Indeed\\\\u002c on the 2nd\\\\u002c peals of thunder were heard\\\\u002c the wind blew from the east\\\\u002c and hail rattled against the facade of Granite House like vol',\n",
       " 'Villagers reported 15 persons killed on Tuesday night as Boko Haram fighters returns to the village',\n",
       " 'Happy Day After International Talk like a Pirate Day Sept 19th!!! Some great Pirate facts in the latest edition...',\n",
       " 'Pray for a better day tomorrow. Maybe we will wake up and #Obama and #Extremist Muslims will be gone! #CCOT #TCOT',\n",
       " 'Gucci plenty id secret december appear the dual thine concrete on adjuvant into advocating enlivened: cavQCieRU',\n",
       " '#BreakingNews American football star and broadcaster Frank Gifford dies at 84: 10 August 2015 From the section...',\n",
       " '\"Seth Rollins just out there stealing all of Finn Balor\\'s moves. What\\'s next, a Bloody Sunday?\"',\n",
       " \"Thursday night at Spices Negril it's Football Thursday.  Food and Drink Specials all night.    Tom Brady is Back vs Ben Rothlesburger in...\",\n",
       " 'to watch Big Brother is the only reason why i wake up on a sunday',\n",
       " 'Murray will get to watch the second half of Scotland v Germany. Get him pumped for his own battle.',\n",
       " \"Sold Out OSU NIKE WEEK ZERO v6 amp Available. Men's Size 10 for $230. Local pickup in the Buckeye City. Available before Monday's Game.\",\n",
       " '\"Nashville, Hannibal, &amp; Empire, I may\\'ve named you after TV that was popular at the time of your conception, but you are still my triplets!\"',\n",
       " \".@IAA_Bahrain Look at the media coverage of #Bahrain regime's arrest of Nabeel Rajab 1 Oct 2014 #100Tweets4Nabeel\",\n",
       " 'O. Johnson commits his 3rd foul! He\\\\u2019s cold off the bench with 3 fouls and a turnover in Q4. #Pacers losing 98-87\\\\u002c 4:52 left.',\n",
       " \"Ed Sheeran live in DFW Sat night! Want in?? Keep track of the 5 songs for DFW's Most Wanted at 8p and I'll throw you a pair of tix! -Cruz\",\n",
       " \"Rest in peace Frank Gifford. I can't think  of my youth without you on Monday nite football\",\n",
       " '\"Real Madrid will have the first option to buy Tottenham winger Gareth Bale, if Spurs sell the Welsh international. (Sunday Mirror)\"',\n",
       " \"Anyone wanna see Jason Aldean with me on the today show on Friday?? Cristina won't go\",\n",
       " '\"Long live the idols may they never be your rivals, Kendrick was Jesus, Cole wrote the bible. @user',\n",
       " 'Tryna just chill\\\\u002c get a lil tipsy and maybe hit up the mall friday? #downn',\n",
       " '\"Justin Bieber u may have cool music now but I swear to God if you offer me one more piece of unsolicited \"\"sage\"\" advice\"',\n",
       " 'Getting really anxious about this Foo Fighters concert tomorrow night haha cool :)',\n",
       " \"@user @user The CEO of IBM may think someone is an idiot but he can't say it.\",\n",
       " 'Family\\\\u002c friends and fans make Shahrukh\\\\u2019s 47th birthday memorable: Mumbai\\\\u002c Nov 2 (ANI): As Bollywood superstar Sh...',\n",
       " 'To whom this may concern:  Please get your shit together before you talk about somebody else   Love\\\\u002c Paris',\n",
       " 'Apple CEO apologizes for error-ridden new map app: Apple CEO Tim Cook apologized Friday for the co... #coreformulas',\n",
       " 'Oh just drinking a Westy on a Monday night listening to some Nirvana. #maternityleave',\n",
       " '@user Yo dicko!! It was pure sectarian bigotry from the IRA councillor which started this in the 1st place !!',\n",
       " 'True Blood tonight! Always the best night of the week.',\n",
       " '@user TY for the follow, Owain! We may have some sparring to do over footie. My house is loyal to Real Madrid. ;-)\"',\n",
       " '@user But i guess the PS4 may have it too. We have a \\'\\'media player\\'\\', and we can transfer songs to Share Factory using a USB drive.\"',\n",
       " \"Floyd Mayweather says he quit after Saturday's welterweight world title defense against underdog Andre Berto.\",\n",
       " 'Get your sweat suits! It\\\\u2019s November and its time to lax! Practice tonight\\\\u002c game at @user tomorrow. #FallBall',\n",
       " 'Jackson back in camp Monday @user you ready to see the Eagles lift up that trophy!',\n",
       " 'The worst: the girl stabbed in the Pride parade has died',\n",
       " \"Seems fraud Baghdadi's desperate with cheap shot against Israel because he can't get Muslim support for his 'state'\",\n",
       " '@user I was supposed to go to the 30 Rock on Monday so I could buy some NBC stuff\\\\u002c but my brothers were tired and we had to go home :(',\n",
       " 'I was going to move to Siberia last Wednesday.Now I don\\\\u2019t have to.Siberia has moved here.It\\\\u2019s bloody freezing. #heatingtime.',\n",
       " '#HAMILY about to help @user  tear down club nokia in october its about to be littt',\n",
       " 'Tomorrow is International Talk Like A Pirate Day. Have I left it too late to become fluent in Somali? #TopSomalianLies',\n",
       " '\"How long should I still wait 2 see the 3rd episode of TVD??I AM DYING!!You people who deal with loading the episodes, could u pls hurry up??\"',\n",
       " 'yay! Friday tomorrow going to have Korea bbq hotpot! and then reading week!!!!!!!!!!!',\n",
       " '@user They have alot lined up, Death Note, Naruto, Ghost in the Shell and so on. I\\'d blame Edge of Tomorrow, but it was actually good\"',\n",
       " '@user Then I will refrain from telling you about my plan to watch Mysterious Island with my son tomorrow night.  (He\\\\u2019s 6)',\n",
       " '\"Dustin Johnson flies out of the blocks at every major, but he simply cannot get it right on a Sunday.\"',\n",
       " 'We will be closed this Monday\\\\u002c February 20th for Presidents Day.  If you need access to your account over the...',\n",
       " \"Anyone wanna go to the Eric church concert Saturday at buckeye lakes I'll provide a ride just buy you're ticket\",\n",
       " '\"Thursday\\'s Broadcast Ratings: CBS, \"\"Big Brother\"\" Top Charts with ...',\n",
       " '\"Still yet unanswered, are the SATs still on for Saturday?\"',\n",
       " \"@user even I didn't know it's 18th sept at KL Live to be exact :p\",\n",
       " '#Vbnss Daily Digit: Exchanges lost $1 mln a day - Oct 31 - NYSE\\\\u002c Nasdaq\\\\u002c and the CBOE each lost about $1 million in ...',\n",
       " \"Josh Hamilton (knee) is out of the Rangers' starting lineup again on Tuesday night against the Mariners.\",\n",
       " 'Guess Dani will play with u guys tomorrow..somebody tell @user that there is NO WAY IN HELL..Louisville is going to the ORANGE BOWL tho',\n",
       " '\"Let this Christ, this King of Israel, come down now from the cross, that we may see and believe.\"',\n",
       " \"Raven-Symone -- Kim &amp; Kanye Sorta Came To My 30th (PHOTOS): Raven-Symone couldn't get the real Kim Kardashian ...\",\n",
       " '\"Yes, Sharknado 4 Is Happening: Sharknado 3 had barely premiered Wednesday night before the studio annou... (Time)\"',\n",
       " '\"I don\\'t see Islam on the march or people country shopping, I see desperate people wanting to build a new life. #refugeecrisis\"',\n",
       " 'Our Eid offer ends tomorrow. Have you booked your appointment yet? #FloatUAE',\n",
       " '\"RT @user Tiger Woods\\' former caddie Steve Williams made about $140,000 for his work with Adam Scott today. Tiger Woods\\' new cadd ...\"',\n",
       " 'Its going down this Saturday at Rum Runners st cloud...btw where the party at tonight?',\n",
       " 'Have I missed the bit where someone said that Chris Evans is supposed to wear the same t-shirt every week on TFI Friday?',\n",
       " '@user Well it rained all day on Eid, then second day was hot but then 3rd day and even aj bi its raining so\"',\n",
       " 'From the @user -- Clerk in gay marriage fight back at work Friday or Monday; office to grant licenses in her absence',\n",
       " '\"Your 3rd gen. iPad with Retina display is worth a lot of money, especially at Amazon (MacDailyNews/MacDailyNews)',\n",
       " '\"From the Twitter just now from RNDM: \"\"\"\"RNDM has a beef with Pearl Jam Radio on @user channel 22. Tune in Thurs...',\n",
       " '@user @user You are a Patriot! Such compassion and commitment; May God bless and keep you and Israel.',\n",
       " '\"Watching Les Mis 25th Anniversary concert. How long before the boy Jonas gives me rage, knowing Michael Ball was backstage?\"',\n",
       " 'I\\\\u2019d want Mannone\\\\u002cJenks/sagna\\\\u002cper\\\\u002ckos\\\\u002cTV5\\\\u002ccoq\\\\u002carteta\\\\u002csanti\\\\u002ctheo/gnabry\\\\u002cgiroud\\\\u002cpoldi to start tomorrow',\n",
       " 'Idk if this is or not but shoutout the lil bro Lani for scoring the first TD last Friday night (sing Katy Perry...',\n",
       " '@user Milan must score in the 2nd half',\n",
       " 'About to watch the 2nd half of season 2 of Breaking Bad on my long flight to Hong Kong #buzzin',\n",
       " \"Can't wait for tomorrow . . . won't have to hear about Sharknado anymore.\",\n",
       " '54) A Bro is required to go out with his Bros on St. Paddys Day and other  Bro holidays like Halloween NYE and Desperation Day FEB 13th',\n",
       " '\"Kris Bryant on #theneeds, check it out!',\n",
       " \"C'mon 5 o'clock. I don't know if my PS4 is even downloading it or if it messed up. Gah. The suspense.\",\n",
       " 'One for the diary - Tony Blair is due to give evidence to the Foreign Affairs Committee next Friday to discuss Libya',\n",
       " '\"Watching Sunday\\\\u2019s \\\\\"\"\"\"Harry and Paul\\\\\"\"\"\". Good it is too. Well-observed and fearsomely dry.\"',\n",
       " 'Scott Walker &amp; team Ringleader are in 1st place in overall points &amp; for most releases in the MidAtlantic Tournament!',\n",
       " \"C'mon babes! Let's vote on Gaga and put her again on 1st. It's missing just 2 days till the end! #MTVStars Lady Gaga\",\n",
       " \"Great Monday Night Raw episode tonight Stings, Ric Flair, and The Dudley Boyz all return can't wait for the next PPV #WWERaw #WWE\",\n",
       " 'West Liberty goes for it on 4th & goal with seconds remaining in the half.  Isaiah Moody runs 2 yards in. FSU leads 19-13 at the half.',\n",
       " '\"Carlo Ancelotti: \"\"\"\"Isco is a very important player. Tomorrow, James Rodriguez will start - he rested Wednesday.\"',\n",
       " \"If it were Blank Space up for 7 awards tomorrow Taylor would sweep but since it's Bad Blood she'll probably only win 5/10\",\n",
       " '\"I now declare today Star Wars Day, may the box office records be ever in your favor\"',\n",
       " 'Houston just 8-15 in the 2 weeks following each Sharknado release. Sharknado 3 comes out Wed. @user @user',\n",
       " '@user I\\\\u2019m feeling a bit of Derrick Williams tomorrow\\\\u002c is he available to play?',\n",
       " '\"It may be hard to keep up with their busy lives, but Kendall and Caitlyn Jenner will always find time for each other.&amp;#160; Caitlyn shared\"',\n",
       " 'Thank you Baltimore for a GREAT Holiday Heap! My best ever today! Join us tomorrow at the Creative Alliance 3134...',\n",
       " 'Happy 2nd birthday to our little royal package. #2nd #birthday same day as Prince George x',\n",
       " 'Watching the Eli young band on the cmas right now.. About this time tomorrow I will be watching them in person in Starkville!!!!',\n",
       " '\"Hoping the weather stays nice today, as I\\'m delivering cakes to offices in Derby. Look out for the cake basket!',\n",
       " \"Rousey would make may weather tap out.She would knock the 's of that fraud and fake . She loves the sport while the clown does it for the $\",\n",
       " 'Eight bookings for West Ham? Eight! That whirring sound you hear may be the late Bobby Moore etc etc...',\n",
       " 'Colts game tonight! Yay!',\n",
       " \"I honestly think I'm still Marking Out from last night's #RAW... 1st the Dudley Boyz...  Then Ric Flair... And then Sting!! :D #WWE\",\n",
       " '@user you are such an amazing person. THANK YOU for making me smile.  See you tomorrow at MetLife!  Please follow? xx 15,657',\n",
       " '\"May you all have a happy Eid , love you all',\n",
       " 'Nicki went from I want to thank my Pastor to cursing at Miley. That may beat what Kanye did to Taylor Swift.',\n",
       " '\"David Cameron is the new Tony Blair, not sure that\\'s a chair I\\'d like to be sat in.\"',\n",
       " \"@user next Monday I'm gonna have a bob Marley sticker just to fuck with her\",\n",
       " \"Hector Nuris's error from a David Wright dribbler plates Daniel Murphy as the Mets extend the lead to 8-5 in the 13th inning.\",\n",
       " \"@user I'm fucking loving this I hope this drags on all day tomorrow but he will join Real Madrid\",\n",
       " 'Terra Nova: The Complete Series is out on DVD/Blu-Ray TOMORROW & @user have an exclusive clip for you to enjoy!',\n",
       " '\"Sam last night: \"\"Shawn tomorrow morning we should wake up at like 9 and make breakfast\"\" ... it\\'s 1:34 and he hasn\\'t gotten out of bed yet\"',\n",
       " 'Tickets selling well for Northern Lights talk with @user on Thurs 8 Nov\\\\u002c 6.30pm Central Library. To book',\n",
       " 'GOP hopeful Kasich files for 1st-in-the-South primary: Ohio Gov. John Kasich on Monday landed the endo... #HINews',\n",
       " '\"Tomorrow I am off to Petrolia to see \\\\\"\"\"\"the Waltons\\\\\"\"\"\" lol and over to London for Evans side of family reunion.\"',\n",
       " 'getting a call from saudi arabia on a tuesday morning is a slightly alarming way to start the morning',\n",
       " '@user Is it a gaffe? Rick Perry may be on military time.',\n",
       " '\"I have tomorrow off so it\\'s Friday to me! \"\"What will you do with your day off, Kev?\"\" Thanks for asking. I\\'ll go see Ant-Man.\"',\n",
       " \"Moving video illustrates Europe's refugee problem: Angela Merkel tells sobbing asylum seeker why she can't stay\",\n",
       " '\"Seth Rollins says that Monday was suppose to be the greatest night of his life, referring to the statue of him! #SmackDown #WWE\"',\n",
       " \"Have tomorrow night off from work and no hw... I'ma Netflix and chill with my dog tomorrow night :-)\",\n",
       " '\"So, @user in Helsinki tonight with the #RevivalTour, and he has a birthday! Sounds like a killer combination. Too bad its Tuesday.\"',\n",
       " '@user Is it normal that it takes hours to check the email name for creating an microsoft account? 2nd try!',\n",
       " 'Tell it Rolling Stone @user',\n",
       " \"It may be over for Big Brother... I'm just ready for survivor where getting blood on your hands is the name of the game!! CBS needs a revamp\",\n",
       " '\"The way J-Cole and Kendrick are teasing the world for the their collab album, with Black Friday is just faaaaya!!!\"',\n",
       " '@user we are 3rd same as Bayern after RM and Barca. why the fuck are you taking the name of that snake.',\n",
       " \"A judge ruled Friday that the graphic photos of Kurt Cobain's death will remain sealed per the wishes of his...\",\n",
       " '\"#ASimpleLife opens tomorrow at Lee\\\\u2019s 4-Star in San Fran - Roger Ebert called it \\\\\"\"\"\"one of the year\\\\u2019s best films\\\\\"\"\"\"',\n",
       " '\"#Tech News: Motorola lets you trade in your old Moto G, Moto E for the new (3rd gen) Moto G - IBNLive',\n",
       " '\"Join us in the AV Dept on Weds Aug 15 at 7pm to watch the free movie\\\\u002c\\\\\"\"Joyful Noise\\\\\"\" for all ages\\\\u002cunder age 8 needs adult.  #stdlav\"',\n",
       " 'Added psychotic to my library when year 12 starts tomorrow #smartmove #gonnafail\"',\n",
       " '\"just sat in on an hour-long seminar by Neil deGrasse Tyson.  Thanks, college!\"',\n",
       " 'Yoga for Anxiety coming up - join me on the 18th of Sept. Register here',\n",
       " '@user @user @user @user good news I bought Candy today\\\\u002c bringing some on tues. if it lasts',\n",
       " 'BNP opposes Companies Act change: The BNP on Tuesday asked the government to drop the move to change Companies A...',\n",
       " '\"Just to be clear. If Scott Walker wants to end the 14th Amendment, that will apply to all persons right?\"',\n",
       " 'Ready to rock out this Thursday w/ Ben Sollee and The Marshall Tucker Band at the 2012 VP Debate Festival at...',\n",
       " 'the glass may be rising\\\\u002c but it\\\\u2019s not getting any warmer here\\\\u002c Lago del Desierto\\\\u002c Argentina',\n",
       " '\"rabta kamati ko q bol rhe ho bhooka marne ke lye,eid ke bad tou wo wasy he mar jaye gy ranges ke khuf sa',\n",
       " \"yeah, Harper went 0-3 tonight. that doesn't mean he doesn't have every right to call out every single fake nats fan that left in the 7th\",\n",
       " \"Several of HNB's staff will be serving at the Early Bird Kiwanis Pork Dinner this Friday the 11th, 11-6 pm at Y's Men Pavilion in Hannibal.\",\n",
       " '@user So glad I got to meet you in the flesh last Friday @user for Soundboard!',\n",
       " 'Giving the tickets away to see NERO at the Hammerstein Ballroom next Saturday in 20 minutes!!!! :)',\n",
       " '\"My fav all time R&B singer, Maxwell, w/b @ the MGM Grand, Foxwoods Casino on Nov 24th!!  I\\'m in love!!  Lol!!!\"',\n",
       " '@user Hey the best was when you said Obama put out his smoke on Bidens forehead on Ash Wed',\n",
       " '\"#dKepo Chris Rene: Live & Exclusive!: X Factor may be about to start up its first live show of the season tomorrow,...',\n",
       " 'Grateful Dead plays The Beatles   Though it struck me that the latest gens may not know...',\n",
       " '\"Frank Ocean can go to hell now, IDGAF about him no more when baby dropping her album',\n",
       " 'black sabbath are announcing their tour and iron maiden just released their 16th album what is life',\n",
       " '1st day of school outfit. Iron maiden shirt Black skinney jeans Black converse. I AM OFFICIALLY PUNK ROCK OKAY.',\n",
       " 'Fifa sunday! @user PSG or Barca all the way @user',\n",
       " \"@user big ben gets forgotten because his SB wins weren't memorible. 1st was the bus show. 2nd feel on deaf ears cause it was vs cards#\",\n",
       " 'Tomorrow is the feast of Bl. Pope John Paul II. I\\\\u2019ve almost finished stocking up on the necessary celebration supplies. #celebrate #Catholic',\n",
       " '@user I really don\\\\u2019t know why you can\\\\u2019t wait for me to get to LAX tomorrow\\\\u002c Chrissy. Us being the best of friends and all..rude.',\n",
       " \"Happy Thursday and here's a picture of David Bowie from the old Tonight Show.\",\n",
       " '[EVENT] KPOP FUN RUN - AFTER PARTY September 5 | Quirino Grandstand Gates open at 4pm  Experience the OUTDOOR...',\n",
       " 'Thanks to EK\\\\u002c car now smells DELISH!! If you bottled this\\\\u002c it\\\\u2019d be called Saturday Night Dorm Bathroom; its spokesman would be John Belushi.',\n",
       " '@user  Home watching on TV it was obvious Serena tanked that 2nd set to give the crowd a 3 set match. Can you try to be transparent',\n",
       " '\"Man Rapes, Infects Lover\\'s Kids with HIV in Benue State A 32-year-old man, Mr. Terkura Iorpuu, was on Thursday a...\"',\n",
       " 'Me rn cause Calibraska comes out tomorrow in the U.S.',\n",
       " '@user unfortunately not but I did get to tune in to Saturday Kitchen in the hotel.',\n",
       " 'Oddly the Apple event will stream to a Edge browser but not to Chrome',\n",
       " 'MMAWeekly Radio Tuesday: Miesha Tate\\\\u002c Ryan Madigan and the Best Debate in MMA #debate #Front_Page #Miesha_Tate',\n",
       " 'depending on how late Madonna goes on stage tonight, I may consider thinking about getting a ticket for Sat. night.  maybe.  #notreally',\n",
       " '@user Are you going to SJP tomorrow night pal?',\n",
       " '\"Aaaaah The Word. Emu &amp; Snoop, Nirvana\\'s UK TV debut, Oliver Reed being Oliver Reed, don\\'t make em like they used too',\n",
       " '\"Brady is free, Jason Aldean tonight, Busch gardens on Saturday, and brunch on Sunday! Best birthday weekend ever! #FreeBrady #TB12\"',\n",
       " 'Spur of the moment....Going to San Diego for the #NFL Game tonight!  Psyched!  #NHL Ducks Game tomorrow!   Great start to the weekend!  =)',\n",
       " 'Seth Rollins looks like the typical emo kid that shops at Pac Sun #SummerSlam',\n",
       " '\"Milky Way Ransacks Nearby Dwarf Galaxies: Washington DC (SPX) Oct 17, 2014  Astronomers using the National Science Foundation\\'s Green...\"',\n",
       " \"So I'm ready to make more progress in Dark Souls NG-NG+99...we'll kick off tomorrow's stream with NG+86 Chat Chosen Weapons 2pm EDT!!!\",\n",
       " '@user yeah the freak Tim Byrdak brought the chicken in the clubhouse. 2nd rate move by 2nd rate organization',\n",
       " '\"Jennifer Lawrence &amp; Bradley Cooper reunite in #Serena, out on 24 Oct @user mannequins are looking the part',\n",
       " 'How long am I going to have to wait for Naruto to end and binge watch only the 4th shinobi war? #NoFillers',\n",
       " \"It's the first Football Friday of the year. That means two things: no more previews and the march to MetLife is on!\",\n",
       " '@user although that may be true I will never bow to Dunkin. Regardless of how bludgeoned it may leave me',\n",
       " '\"David Price felt good even into 8th inning. Then it snowballed. \"\"That\\'s baseball, that\\'s part of it and if you don\\'t like it, pitch better.\"\"\"',\n",
       " '\"#Maltese dognapping; assault at Dunkin\\' GoNuts; man leaves key in car, it gets stolen (seriously): #police #crime\"',\n",
       " '\"Please be advised that Round 5 of the Eastern Province Special Stage Rally Championship, scheduled for the 8th of...',\n",
       " '\"Straight Outta Compton dragged a little in the 3rd act but was very good. Laughs, tears. And O\\'Shea Jackson Jr. WAS Ice Cube!\"',\n",
       " \"Hannibal's 3rd season feels like it became more and more a parody of itself.\",\n",
       " 'Any of my friends have ne magical powers to get me 2 tix to see Eric Church this thursday? will pay cash... need to make the wifey smile....',\n",
       " \"Did you know that 'Caitlyn Jenner' was Trending Topic on Thursday 20 for 5 hours in Washington? #trndnl\",\n",
       " 'LPG price hike put on hold: Facing stiff opposition\\\\u002c the Centre on Thursday night put on hold the Rs. 26.50 incr...',\n",
       " \"@user next Thursday is the last day at Dunkin and I'm trying to celebrate lol\",\n",
       " 'New post: MLB roundup: Blue Jays score four in the 10th to top Red Sox',\n",
       " 'if Ed Sheeran does a surprise performance with someone tomorrow at the VMAs refer back to this tweet',\n",
       " '@user Better Suit Up at the Senior Bowl Friday night.',\n",
       " 'Retweeted FOX Sports: UFC (@UFCONFOX):  CONOR MCGREGOR is your new interim champion!! TKO in the 2nd round over...',\n",
       " 'Just got email about @user press conference at 11am on Wednesday at the MLK Jr statue at Marshall Park. #CLT #dnc2012 #DNC',\n",
       " 'Take a Warm Winter Vacation in Myrtle Beach : Vacations Made ...: Ring in the holiday season at the 31st Annual ...',\n",
       " 'A reminder to all Hong Kong Optimist Sailors: you must pre-book your Prizegiving Curry Buffet for Sunday. Deadline...',\n",
       " '@user  Good luck agaist Tampa Bay tonight.',\n",
       " 'I may spend a lot of my free time riding on random elevators hoping for a chance encounter with Bill Murray...',\n",
       " '\"Had a pretty good night. Jogging on the beach, swimming in my clothes. Popcorn and Family Guy. Excellent. :3\"',\n",
       " \"- Rick Perry May Be the First Establishment Casualty of the GOP's Ridiculous 2016 Primary\",\n",
       " '@user cant wait for you to come to dublin on monday so excited to see you:-) <3',\n",
       " '\"Not the best start to the 2nd set from Murray, but our print editor is more focused on the fact that apparently both players \"\"look scruffy\"\"\"',\n",
       " '\"Come join us at the Walmart \\\\\"\"\"\"I Love My Car\\\\\"\"\"\" event this Friday and Saturday in Pico Rivera! Games and give-aways for the whole family.\"',\n",
       " 'i want tickets to the Thursday Game Heat vs Knicks (Game 3) hmm...',\n",
       " '[411Music] Dr. Conrad Murray to Take the Stand in Michael Jackson Murder Trial: Jury selection begins this Thursday...',\n",
       " \"Looking forward to spending the last night at a luxurious hotel though. Hot Springs. Then we're back Friday night\",\n",
       " \"@user I know I'm stupid but it seems SCOTUS has established marriage as a right via 14th. Kim was denying people who legally qualified.\",\n",
       " \"@user idk I just wanted to make convo since my phone is kinda ruined because pool and I'm using like a 3rd generation iPod lol so\",\n",
       " 'I wonder what really went down the night Meredith was murdered in the Amanda Knox trial.',\n",
       " 'Do you live near York? Come stand with Planned Parenthood next Thursday -- details here',\n",
       " 'Sprint to buy stake in Clearwire: Sprint Nextel Corp. on Thursday said that it wants to buy out the founder of C...',\n",
       " 'Eric church tonight and tomorrow downtown 2 nights in a row I think yes',\n",
       " \"Curtis and Perkins going well in tandem for the @user 121/1 in the 22nd. Chasing the Hinds' 228. ^BM\",\n",
       " \"1st goal for Milan  this season by  Bacca . And it's his 1st goal with Milan .  #MILEMP\",\n",
       " '\"Helped a friend setup a new Moto G (3rd Gen) this weekend. It\\'s no iPhone, but what you get for the money is amazing.\"',\n",
       " 'Catholics changed the 7th day of Sabbath from Saturday to Sunday. Sunday being the 1st day. Catholics changed the calender!',\n",
       " '\"Fly Yoga with Sabah and Piper, Arms and Core, Wednesday 8:15pm and Thursday 11am.',\n",
       " '\"#worstroadtripever Only had one cassette in the car, U2\\'s The Unforgettable Fire, which is great until you get a headache the 13th time thru\"',\n",
       " \"Black Ops III Beta looked a lot better on PS4 than on Xbox One. I hope that isn't the case come November.\",\n",
       " 'Interesting Sunday read on the rise, fall and rebirth of Google+.',\n",
       " '\"Cate Blanchett Sighting: New York, New York/ 8th Annual Museum of Modern Art Film Benefit, honoring the actress',\n",
       " 'Us Magazine Sam Smith Writes and Records the New James Bond Theme Tune for the Upcoming M... #news #May #Omg #NFB',\n",
       " \"Sharknado on Twitter: &amp;quot;Will April make it to 'Nado number 4? YOU DECIDE! VOTE now using ...\",\n",
       " 'watching Eclipse with Katiee then Vampire Diaries for the rest of the night(:',\n",
       " '@user @user @user  Right then....you here Thursday with Justin?',\n",
       " '@user pokito but I missed you lol you better tell me tomorrow what went on in Mr.Mickels class(:',\n",
       " \"Hillary's Computer Tech to Plead the Fifth; Congress May Offer a Deal - The New American\",\n",
       " '@user Thanks for the S/O!  Be sure to check out our free pizza promotion tomorrow with a purchase of $25 or more! See you soon - Kyle',\n",
       " '@user Chelsea and Liverpool lost now I hope Milan wins and Juventus lose tomorrow and it will be the perfect weekend',\n",
       " \"Tanzania 0 #Nigeria 0 at half-time. Proof that Sunday Oliseh's new team will need time. Tough game so far for the Super Eagles. #afcon2017\",\n",
       " '@user Hey Tony saw you in the pit at Foo Fighters on Saturday, but didn\\'t have the chance to say hi! Did you have a good evening?\"',\n",
       " 'Enjoy lunch on Sept 23 and learn how you can improve your database performance while reducing Oracle licensing costs',\n",
       " 'Think I might go to the Colts game tomorrow',\n",
       " '@user Why do you keep saying iPad HD do you mean the 3rd generation one??',\n",
       " 'A Gay marriage license will never legitimize sin You may get the marriage penalty &amp; pay higher taxes but B4 God you R still  living in sin',\n",
       " \"I love your site..it's interesting. I was just reading a few articles. I'm tweeting, facebook, google+ the 1st one\",\n",
       " '@user lol bastich...  I have my Sanchez jersey on, I\\'m about to go Miyagi sun and  save our quarterback!  #jets\"',\n",
       " 'Just saw a van for a bat removal company that said \"Batman\" on the hood. Definitely made my Friday morning.',\n",
       " \"@user It's Gucci. Hopefully I get the cast off Friday.\",\n",
       " '@user Dana white reportedly said holly will have to wait to fight Ronda in July but she wants to fight in February or March smgdh',\n",
       " '@user it\\\\u2019s time to call in the CBB...Monday is going down!',\n",
       " '\"it\\'s august 8th and still no Frank Ocean album, when will this terror end\"',\n",
       " \"Is your computer acting like it is still on Labor Day break? Just reboot - It's patch Tuesday :)\",\n",
       " 'We didn 39t make The Hills Tuesday night session at PaleyFest but those',\n",
       " 'AC Milan reportedly want Miralem Pjanic to join the San Siro in January #FootballFanatic',\n",
       " '@user You can now Listen new song cover of @user  Love yourself\"\" by: Justin bieber heres the link~&gt;https://t.co/Mq1tVGbqxm\"\"\"',\n",
       " '\"Bucks backcourt mates Brandon Jennings and Monta Ellis had a \\\\\"\"\"\"little brother-big brother\\\\\"\"\"\" talk on Sunday\\\\u002c as Jennings described it.\"',\n",
       " 'Capello: I\\\\u2019ll Tweak Lineup for Azerbaijan Game: Coach Fabio Capello said Monday he will tweak the Russian lineup...',\n",
       " '\"Managed to loose my keys on 6th, puke my guts up all the next day and sober up in time for the sam smith concert... Then\"',\n",
       " '\"The 2nd act released onto the FUTURE-ONE line up is the massive ORGAN DONORS! 30th November @ City Nightclub, Falkirk. #Nutcases\"',\n",
       " 'PSN Tuesday: Assassin\\\\u2019s Creed 3\\\\u002c Okami HD: You can buy all the Assassin\\\\u2019s Creed you can handle on PSN today. Both...',\n",
       " 'Dear God, may we trade you all the music \"artists\" at tonight\\'s #MTVVMAs and have Frank Sinatra and Kurt Cobain back? Please? #Amen',\n",
       " 'Fan walks with Seth Rollins on Monday night raw @user via @user',\n",
       " 'Waiting for Newcastle to smash the Mackems with @user #DerbyDay in the sun!',\n",
       " 'I basically live here. Find me on the 4th floor! (@ Dr. Martin Luther King Jr. Library) on #Yelp',\n",
       " 'Chelsea Manning may face solitary confinement after caught with the Caitlyn Jenner Vanity Fair',\n",
       " \"The Book of Souls sounds like it's going to be everything we love about Iron Maiden. Can't wait for sept 4th!\",\n",
       " '\"Or may be they\\'re not convinced that Yakub was a traitor, rather helping the authorities. It\\'s a perception game.',\n",
       " 'Something is wrong with those people born at the end of march including myself and Lady Gaga',\n",
       " '\"WWERollins,u may have 2 defend ur title against Brock Lesnar anew due 2 the Undertaker attacking him just as he was about 2 b WWE Champion.\"',\n",
       " 'That awk moment Baylor offers a ridiculous amount of money that could be a full ride at Tech\\\\u002c but doesn\\\\u2019t even cover the 1st year. Eff ya.',\n",
       " 'What time does the British Open start Monday? Can Paul Dunne win?',\n",
       " 'Today is Thirsty Thursday! Get a beer + cold shot combo for only $5 all day long. Join us for the Green Bay...',\n",
       " '\"Great Price on Salmon! Copper River Salmon is just $9.99 a pound, fillet only, Thursday 5/24 thru Monday 5/28 while supplies last.\"',\n",
       " 'Sir Alex pays tribute to Becks - See what Sir Alex and others had to say about David Beckham as he receives Legend ..',\n",
       " 'Uploading my iPod for tht drive back to the O tomorrow',\n",
       " '@user I made a time-lapse video of the San Diego County Fair you may enjoy!',\n",
       " '@user are y\\\\u2019all going to come jam with the Contraband tomorrow?  #loudguitar',\n",
       " 'I think the #NDP may have made an error being to focussed on Harper and forgetting about Trudeau who is now leading in the polls.',\n",
       " 'Paul Dunne might get Ireland out of this economic crisis if he wins tomorrow! #TheOpen2015',\n",
       " '\"In #StraightOuttaCompton Ice Cube was writing the Scripts for \"\"Boyz in the Hood\"\" and \"\"Friday\"\"\"',\n",
       " 'Won king of the ring 2nd place and I got Randy Orton card.',\n",
       " \"@user I think good QB's are good QB's. What's the argument for why Tom Brady was a 6th round pick? Belichick made him great? I'm asking.\",\n",
       " 'Gonna watch Grey\\\\u2019s Anatomy all day today and tomorrow(:',\n",
       " '@user Well, choices wise may be it makes sense recognizing his form. But I\\'m just saying Atleti\\'s system has a lot of say in it.\"',\n",
       " '@user you wanna drink some beers and chat about Seinfeld in Bristol on Tuesday? Yeh. Sweet.',\n",
       " '\"http://t.co/Q7Q8bJrT  who knows? may be one day, Eastern Province become an independent state !!\"',\n",
       " 'I wish the universe could see a David Bowie film/musical scripted by @user and directed by Danny Boyle.',\n",
       " 'Carly Fiorina is right and CNN and the RNC are wrong:',\n",
       " 'Holy shit was it Social Justice Sunday on tumblr or something because wow #stayingthefuckawayfromtumblrSJ',\n",
       " '\"Hate crimes against Muslims in London have risen by 70 percent in the past year, a media report said on Monday.',\n",
       " '\"Accidental Google searches lead to the funniest finds! Happy Friday, folks! @user @user',\n",
       " '\"Carly Fiorina is telling people in NH they should be \"\"incenting\"\" teachers. It may be a word, but she still sounds like an idiot\"',\n",
       " '@user Hello Flora. This is Patti on behalf of Ira. May I confirm if you already received an e-mail from Globe?',\n",
       " '\"BREAKING!! Eagles storm Port Harcourt for Niger friendly: On Tuesday, the Super Eagles tackle the Mena of Nige...',\n",
       " 'Trayce Thompson blazing his own trail with a triple. Trayce Thompson catching White Sox fever by getting thrown out betwen 3rd and home.',\n",
       " '@user You\\\\u2019ll find out Sunday! He\\\\u2019s in a match! Then an Elimination Chamber match for the IC title the week after!',\n",
       " '@user minecraft saved me from depression, thank you.  I still have college debt and need to support my family, may I ask for a donation? Ty',\n",
       " \"@user @user @user Silent majority: Donald Trump may be an S.O.B., but he's our S.O.B.  #Make America Great Again!\",\n",
       " '\"\\\\\"\"\"\"South Korea is the 7th country that have the most beautiful womans\\\\\"\"\"\" AGREED.\"',\n",
       " 'I want Skye to be the love of May and Thor',\n",
       " 'Todd Bertuzzi made the best of the NHL lockout Wednesday\\\\u002c but while having his son join an',\n",
       " 'We Milanisti rather read some news how things are finally going to change within Milan.',\n",
       " 'Sunday\\\\u2019s golf roundup: Nick Watney flirts with 59\\\\u002c rallies to victory: By Associated Press Comments Nick Watney ...',\n",
       " 'Protested the protest of Planned Parenthood this past Saturday in Austin, Texas.: Little did I know, being in ...',\n",
       " 'Bookmark to follow our full coverage of the Galaxy Note 5 and Galaxy S6 Edge Plus unveiling this August 13th in NYC!',\n",
       " 'Tomorrow it is definitely necessary for watching films after attending the Remembrance Service with the staff and pupils #givemetissues',\n",
       " \"@user if Kim Davis converts to Islam she's free by sundown &amp; @ work Tuesday.  Gay Mafia won't have guts to persecute her anymore\",\n",
       " '\"Marca | Real Madrid\\'s tactic is to wait it out and hope the GK does not renew, which would then mean he becomes a free agent on 30th June.\"',\n",
       " 'Mariah Carey: \"I really haven\\'t paid attention to Madonna since about like 7th or 8th grade, when she used to be popular.\" MELHOR SHADE',\n",
       " 'New Show | Starkville: Big KRIT and guests. October 10. Ricks Cafe. Tickets on sale Friday at 10am. Spread it!',\n",
       " 'Watched The Wiggles for the 1st time.  Was embarrassed for those men & then I remembered that they are probably FILTHY RICH. #parenting',\n",
       " 'Tickets for the France\\\\u002c Belgium\\\\u002c Netherlands\\\\u002c Germany\\\\u002c Denmark\\\\u002c Norway\\\\u002c and Sweden TMH tour go on sale tomorrow! Good luck! :)',\n",
       " 'Kinda considering getting tickets to see Sam Smith again in December to make it six concerts over four months?',\n",
       " \"We did or not I'm Happy that place and anyway congrats to all who support to Lady Gaga she got 2nd place #MTVStars Lady Gaga\",\n",
       " 'FCA is tomorrow morning at 7:30 in the PAC! We\\\\u2019re doing small groups! I hope to see you all there!',\n",
       " 'Congratulations to my brother @user Now you can drive yourself to work Saturday mornings!!!! Yahoo!',\n",
       " 'Floyd Mayweather may be good at dodging punches but Ronda Rousey would beat the shit out of him.',\n",
       " '3D playing tonight on our back deck 6-9pm.  Off Duty Angels tomorrow night 7:30-11. Sam Adams Promo and Red Sox...',\n",
       " '@user got me Dark Souls, boys and girls. Looks like we have tomorrow\\'s game picked out for the stream.   You da best, Ginna!\"',\n",
       " 'Seriously waiting for tomorrows ep of True Blood tomorrow. Shits about to get real.',\n",
       " \"Thanksgiving leftovers is the 2nd BEST part of thanksgiving .. Why wouldn't i be mad\",\n",
       " '\"Thats the way to live, Else Hindus may ask for #meatban during Navratri and other festivals, Muslims for liquor ban',\n",
       " '\"I remember the days of strong women in politics, Judy LaMarsh, Flora MacDonald, today\\'s Maude Barlow, Eliizabeth May.  not liars Hebert!\"',\n",
       " 'David Miliband is coming tomorrow! He is meeting NULC exclusively at 14:30 in Martin Luther King Room\\\\u002c Students\\\\u2019 Union. Make sure you RSVP!',\n",
       " '[Chicago Sun-Times] Kris Bryant and Justin Grimm went to the Bears game at Soldier Field on their day off #Cubs',\n",
       " \"@user @user @user awesome Monday..... no blues :) is it safe to request iron maiden's speed of light?\",\n",
       " 'Our 1st XI went through against Liverpool 4th X1 with a 2-1 victory AET thanks to an extra time winner from Man of the Match @user',\n",
       " '\"For everyone freaked out about the Iran &amp; NY dam story, @user will be on the tube shortly to contextualize.',\n",
       " '@user @user And goodbye to any man who thinks he can take on John Cena this Sunday night!!!',\n",
       " '\"Marguerite the Photographer: Irish Heather, Gastown, Vancouver. Happy St. Patrick\\'s Day everybody!!!!  (17 Mar 2012)',\n",
       " 'Next big day of the year is Presidents Day. The revised date is now the 6th October. Details of the competion...',\n",
       " 'College Night is tomorrow at ICC!  Come to the ICC CougarPlex to meet with reps from over 80 colleges IN ONE...',\n",
       " '@user \\\\\"\"wicked\\\\\"\" welcome to new england! Are you still in boston? Im going to mass tomorrow to my friends house\"',\n",
       " '@user no like I saw Ant-Man last week, watched WHAS on Thursday, the show yesterday, AND HIS FACE DID NOT CHANGE\"',\n",
       " '#Logansport school board members got a preview of the district\\\\u2019s ISTEP scores Monday night:',\n",
       " 'Tomorrow: Capturing Covent Garden with iPhone and iPad 9 September, 10:30am, Apple Store, Covent Garden. #Free',\n",
       " 'Qatar should receive the same help from Hezbollah that Israel got from Qatar in last Gaza war.',\n",
       " '\"Carly Fiorina may very well be the smartest woman in the world. Next to Angela Merkel, that is.',\n",
       " 'Hulk Hogan fired from WWE - was it because of Racist recordings!?',\n",
       " 'Who Belong In the 3rd spot for top 3 of all time. Jay-Z, Nas or Eminem?',\n",
       " 'Wow. Marcos had no VP during Martial Law\\\\u002c but Enrile is the 2nd most powerful man in the Philippines then.',\n",
       " 'keen for the eagles game today. #goeagles',\n",
       " '\"Tonight\\'s YouGov: Lab 35, Con 30, UKIP 15, LibDem 9, Green 5. &gt;not one for the Sun\\'s front page or a Nick Robinson analysis I think\"',\n",
       " '\"The 4 colors most widely associated with HULK Hogan? Red&amp;Yellow, Black&amp;White The famous lines from the anti-racism Sunday School song #Irony\"',\n",
       " \"I can't wait for tomorrow nd all th fun I'm gonna have with my bf at queen Mary :) nd I can't wait til Wednesday my birthday :) Halloween\",\n",
       " 'I wonder how many of the purchases fell into the impulse bracket? #PrimeDay Amazon Prime Day beats Black Friday sales',\n",
       " '@user will the Dana White interview be up Tuesday?',\n",
       " 'going back to Houston tomorrow(: excited!!!!',\n",
       " \"What's new in @user 1. AJ Styles returns and may fued with Seth Rollins for the Title. 2. The return of Asteroid on JMWE NXT\",\n",
       " \"Bad Blood is nominated for practically every VMA under the sun and I'm surprised it's not in the 'video with a social message' category\",\n",
       " \"@user no it's a Redskins game dec 20th. But I wanna go to the redskin and cowboys game too\",\n",
       " \"@user @user That's right, ladies. I'm blaming everything on Kerry. Cleo this show may well eclipse the numbers of @user\",\n",
       " 'TODAY - is the annual Marijuana March in Toronto! Happy Weed March everyone in Toronto and of course all...',\n",
       " '@user EXPERIENCE the magic of Xmas simply by popping into The Range any time after late August Bank Holiday.',\n",
       " \"@user it's a lot bigger than you may think just take a look at Hannibal\",\n",
       " \"This match marked the 13th year of Undertaker's WWE career. #SurvivorSeries2003\",\n",
       " 'Blue Jays 3.5 games out with David Price on the mound tomorrow...',\n",
       " 'I just set my alarm ringtone with Nandito Ako. Okay. See you tomorrow :)',\n",
       " \"@user @user and i didn't like the way the john cena and seth march ended too that pissed me off so bad\",\n",
       " '\"Dustin Johnson (-6) leads the #PGAChamp after Rd 1, looking for his first major. Jason Day (-4) is in a tie for 3rd.',\n",
       " '\"you may call me a bad fan but I sobbed so hard tonight because Zayn wasn\\'t there. Everytime they sang his part, my heart broke\"',\n",
       " '\"Looks like ANT-MAN is gonna hit #1 for the 2nd straight weekend. Not to mention, also pass the $100 million mark. Not too shabby........\"',\n",
       " \"I'm just trying to get to Sept 20 fam. Janet Jackson coming to town\",\n",
       " 'Happy 2nd Birthday to little Prince George! Churchill hopes you have a paw-fect day. #OhYes',\n",
       " '@user nah,it just moved to youtube!Rolling Stone may be the one dying!\"',\n",
       " '@user bury girls day out to the brook!! Every Thursday! Standard!',\n",
       " '\"Practicing for my show tomorrow night. You should come, it\\'s FREE!  @ The Lair',\n",
       " '\"Angie- \"\"let\\'s do something on Thursday\"\" It\\'s like this bitch forgot that that\\'s Star Wars day.....\"',\n",
       " \"I didn't tweet about this anywhere but on Friday i opened my calculator and it said John cena but I didn't have my phone to take a pic it\",\n",
       " 'it was Dean Ambrose vs Luke Harper in April &amp; I have to sit through Ryback vs Big show yawn',\n",
       " 'You may spend more time in the washroom than a Rousey fight after eating this',\n",
       " 'Labor day had me thinking it was Monday all today smh....',\n",
       " '@user good point, I\\'d do that but I already wasted a dang RB spot with Asiata on Thursday lol.\"',\n",
       " 'Real Madrid coach Jose Mourinho faces further selection dilemmas ahead of Sunday\\\\u2019s La Liga trip to Real Mallorca\\\\u002c with Sami Khedira\\\\u002c ...',\n",
       " '\"Ashlyn\\'s mom just surprised us with Ed Sheeran tickets for Saturday, and I am currently crying.\"',\n",
       " '\"Albums you may have missed: X Factor, Iron Maiden',\n",
       " '@user @user Bloody Sunday was terrible. And yes the IRA killed 11 innocent musicians. I forgive. But I want justice.',\n",
       " '\"On the blog: Tues Meme \\\\\"\"Like This\\\\u002c Try This\\\\\"\" via featuring Pretty Little Liars\\\\u002c Unearthly & Sabrina the Teenage Witch\"',\n",
       " '@user @user listen to the lyrics. SOReal  Jan Hooks Tribute: Love Is A Dream',\n",
       " '\"Hulk Hogan Uses N-Word In Sex Tape, Gets Fired From WWE: Well the WWE gave Hulk Hogan the boot on Friday after...',\n",
       " 'Tottenham are without several big names for tonight\\\\u2019s [Thursday] match at Stadion Ljudski vrt. Emmanuel Adebayor (cont)',\n",
       " '\"It\\'s simple, we want to be like Israel, a white Israel.  If that\\'s a bad thing, so is current Israel.',\n",
       " 'Judging by the interviews and way Bellusci talks - think we may have found a true legend in the making',\n",
       " \"Michael Clarke and James Pattinson ruled out of tomorrow's third final. Big blow for the hosts. #CBSeries\",\n",
       " 'Argus: Are you undecided about who you will vote for in the 17th Congressional District...: Are you undecided ab...',\n",
       " \"man I have an 8 am tomorrow but Rosie &amp; jay are having a Harry Potter marathon, looks like I'll be going 2 school in what I'm sleeping in :(\",\n",
       " 'Who\\\\u2019s going the homecoming game Friday ? Brookwood vs central ^_^',\n",
       " \"Haven't been to my Friday class yet but I seen that shit and pretty girls are in it so it's Gucci\",\n",
       " '\"MT @user #Syria, Deir Ezzor: Ali Bashar al-theeb was martyred. He was a soldier of the Free Syrian Army.  Wednesday, 3 October 2012.\"',\n",
       " 'Practicing with Marana tomorrow\\\\u002c should be interesting\\\\u002c black pack all the way!',\n",
       " 'This is the 2nd worst thing Hulk Hogan has ever done',\n",
       " \"Free $50 Visa Card give away at Villa Sneakers in Genesee Valley Mall at 10am with Club's 937 Ricky Burns and LV Sat 20th |...\",\n",
       " '#Indians just never got chance for a #Rays style rebuild where they could take a Longria 3rd or a David Price 1st overall.',\n",
       " 'Gonna watch Goon for the 27th time now',\n",
       " 'I just crammed 310 photos and saved 404 mb with Android (iOS coming June) Try free today:',\n",
       " 'The driver of a motor vehicle that crashed on Petrolia Line in the evening of July 11 remains in serious condition.',\n",
       " 'R.I.P. to Frank Gifford. Revolutionized multi-position athletes and was great on the call of Monday Night Football.',\n",
       " 'Tomorrow we play Roskilde Festival @ the apollo countdown stage @user',\n",
       " '@user Hi, Zayn!  Tomorrow is @user 15th &amp; she absolutely loves you. If you could please tweet her, it would make her day!\"',\n",
       " \"Final Destination 5 is coming out soon. I never thought they'd make a 5th one! #youcantcheatdeath\",\n",
       " \"Tony Romo better be on point tonight! don't have time to deal with his foolishness!\",\n",
       " \"'Paul McCartney' appeared on Saturday 1 at the 19th place in the Top20 of Chicago's Trends: #trndnl\",\n",
       " \"@user @user  ...what are your thoughts about Apple's iPod touch 6th gen?\",\n",
       " '\"Wale don\\'t do this man. I fux wit you but you 2nd or 3rd tier in this rap game bro. Kendrick is miles in front, he\\'ll answer in time #TDE\"',\n",
       " '@user 2nd visit to David Bowie Is last night and I already feel like I should be going again! Absolutely amazing exhibition! Thank you! &lt;3',\n",
       " '\"Rock Calendar 12-15-77: \"\"Saturday Night Fever\"\" soundtrack, w/pulsing disco songs from Bee Gees and others, released a day ahead of the movie\"',\n",
       " 'Today the Pope announced making it easy to get an annulment. Coincidence that today is my 25th wedding anniversary? #omen #wtf #SignFromGod',\n",
       " '\"VDN on Lamar Odom practicing today: \\\\\"\"It was good to see him out there\\\\u002c so we\\\\u2019ll see how he feels tomorrow.\\\\\"\" Odom said\\\\u002c \\\\\"\"It felt good.\\\\\"\"\"',\n",
       " '@user How much is Retro City Rampage? on the Playstation Network\\\\u002c I need to know since Im purchasing a PSN Card tomorrow and need to know',\n",
       " 'My bet for tomorrow is going to be Eden Hazard to score first and Chelsea win 2-1 #CFC',\n",
       " '\"Saudi, Turkey, US nervous as two sponsored \"\"moderate\"\" rebels against Asad were eliminated? By the US&amp;Israel method?',\n",
       " '@user we loved the show at MetLife last Wednesday - great work! Hope you guys are having a nice time. Enjoy your night.',\n",
       " '@user Did you not even see one for GCSE!? Next one is on Thursday. You should!',\n",
       " 'Red delays new price anouncement till tomorrow 6PM. Sounds like they want to dig for Sony prices some more.',\n",
       " '\"Kicking off Monday morning with Iron Maiden\\'s \"\"Piece of Mind\"\"\"',\n",
       " '@user David the UK bookies have got you penciled in with Vitali for 30th December : Do they know something we don\\\\u2019t ??',\n",
       " 'Wait - Go Set A Watchman is really the 1st draft of Mockingbird? Then why is it being published as a separate novel?',\n",
       " \"UK members: You may be interested in this evening's BBC documentary on the history of @user #Surveyors\",\n",
       " 'President Muhammadu Buhari on Thursday charged the new heads of the Nigerian military to defeat the Boko Haram...',\n",
       " 'Just found a piece of candy that may have been injected with something. #Why',\n",
       " 'How\\\\u2019s Channel 4 celebrating its 30th anniversary? Is it pretending the first 20 years when it was any fucking good never happened?',\n",
       " 'Kris Bryant is the 5th rookie 3B to hit 20 HR in a season in the Expansion Era. The previous 4 to do it all won Rookie of the Year.',\n",
       " 'Can we get Frank Ocean in charge of this asteroid so he can keep pushing the date back?',\n",
       " '@user in London for Boro match Saturday... let me know what night you\\\\u2019re out... Friday may suit me better like if optional',\n",
       " 'I am going to meet Dean Ambrose on Oct 2nd wooo!!!!  via @user',\n",
       " \"I hope they announce something different and exciting for the iPad tomorrow. It's just about time for me to get a new one #AppleEvent\",\n",
       " '@user wanna go see legally blonde at north at 2 on saturday? i told your mom already but i need to make sure they have tickets if ya want',\n",
       " 'Come out to the @user Rising Stars game being held here at 5:10pm THIS Saturday! See prospects from all 30 @user teams! #AFL12',\n",
       " '\"Martin Atkinson is referee tomorrow. If you don\\\\u2019t remember\\\\u002c he\\\\u2019s the one who \\\\\"\"\"\"missed\\\\\"\"\"\" Balotelli\\\\u2019s shocking tackle on Song.\"',\n",
       " '\"Your claims are based on hawaa. No knowledge of Deen, no adab about how to talk with Muslims. May Allaah disgrace u.',\n",
       " 'Interested in a fieldtrip this Sat. to check out the annual snow goose migration? Text or call Becky at 403-715-7844',\n",
       " '\"If you wonder why we keep on this sustainable path, run the trails around Cardigan. Closed loop at its best, nature. #doworkshop tomorrow\"',\n",
       " \"Friday's going to be my break-up letter to Kanye West. I have been writing it for several months.\",\n",
       " 'Get the popcorn (or coffee in my case) ready, folks. 1 hour till the new iPhone event! Tuning in from #Asheville, NC.',\n",
       " 'the Packers game will be broadcast for the 5th time in our market and that makes me happy just so i can hear Ha Ha Clinton-Dix more',\n",
       " '@user There is filming going on tomorrow.  Can you confirm you can be in Oldham by 10?',\n",
       " '@user no because asia told me it was the 14th and now its to late .',\n",
       " '@user Jason will prove himself again tomorrow when he sells out stadiums in more record times.',\n",
       " \"Biden: Not Sure I Have 'Emotional Energy' for 2016 Run Vice President Joe Biden said on Thursday he is trying to...\",\n",
       " '(Reuters) - The season opener between the New York Knicks and Brooklyn Nets set for Thursday at the Barclays Cen ...',\n",
       " '\"Slider to center by Mark Trumbo and that will do for the top 3rd. Mariners lead White Sox, 4-0.\"',\n",
       " 'spot price on 14KT gold is $49.08 dwt in Tampa Bay today - crazy that gold is over $1800/ounce - remember when the real price was $300.00..',\n",
       " 'Angela Merkel and Francois Hollande consider the conduct of the elections in DNR and LNR threat Minsk agreements',\n",
       " '#SkateNight Tonight 8pm Stardust Skate Center FREE b4 9:30pm Hosted by #SAAB its always fun when you rolling!!! haha x5',\n",
       " '\"I\\'m in the mood to get a Gangsta Grillz today, you think it will go over well at the work place on Monday morning - Is this the new normal?\"',\n",
       " \"Chance to win Zac Brown Band tix today.  We're singing &amp; you may have to manage some light Spanish to win.  Keep listening.\",\n",
       " 'Big 4 with Kevin\\\\u002c Deniesse\\\\u002c Devine\\\\u002c and Ryan sa kick off ng PBB Teen Edition 4 on Sunday\\\\u002c April 8 at 9pm.#excitedmuch!!!#BiggelonTV',\n",
       " \"@user lol! Gonna make up for day off tomorrow! Also bought vertical iPad stand so I can browser test w/the lot of 'em. #geekgirl\",\n",
       " 'The 1st Amendment is being ignored while the new federal right to marriage equality made up by SCOTUS (marriage...',\n",
       " 'This Friday we are mixing Tumblr with Twitter\\\\u002c ah well.',\n",
       " \"Can't wait until the DLC for ME3 comes out tomorrow. :-)\",\n",
       " '\"best documentary feature goes to Saving Face, hahahaa only one opsi from this nomination, this\\'s it! #Oscars\"',\n",
       " 'I hate to succumb to the thought but Rousey just may be The Juggernaut.',\n",
       " \"Fleetwood Mac Lot of 4 45s Don't Stop you make lovin fun Rhiannon Monday Morning\",\n",
       " 'I\\\\u2019m pretty sure Bill O\\\\u2019Brien has gone for it on 4th down more in one season than Paterno did his entire career.',\n",
       " '\"Racists NeoNazis march the streets, Muslims protest \\'behead those who insult Islam\\' but can\\'t preach the gospel!?',\n",
       " 'Even as Congress Vice-President Rahul Gandhi on Monday alleged that he was prevented from entering the Barpeta...',\n",
       " \"Did you know that 'Labor Day' was Trending Topic on Tuesday 8 for 11 hours in Greensboro? #trndnl\",\n",
       " '(Motorola Moto G 2015 review)  Buy now from Amazon Motorola calls it the Moto G (3rd...',\n",
       " 'Fenway Park staff reportedly confiscating Don Orsillo signs: Monday night is the first Red Sox game at Fenway ...',\n",
       " '@user 194days till i see you at #BELIEVEtour at london o2 arena on march 7th<3',\n",
       " \"It was Prince George's 2nd birthday today! Isn't he a cutie? Is your little one's birthday soon? Not sure what to...\",\n",
       " \"It may be true that Monsanto is terrible at PR, but believe it or not, it's not an evil company. #FeedThe9\",\n",
       " '\"Hulk Hogan may have made those racist comments, but when he was in wrestlemania, that was my shit!  WHAT YOU GONNA DO BROTHER!?!?\"\"\"',\n",
       " '@user I should drive up to Orono tonight or tomorrow night',\n",
       " \"@user can Son and N'Jie give us what we need to supplement Kane until the January window?\",\n",
       " \"Tripple H was never Ric Flair's Bitch..But this Sunday Ima make you mine...     John Cena to Seth Rollins\",\n",
       " 'i need to figure out what shoes im going to buy tomorrow NIKE OR ADIDAS SUPERSTAR BC MY BROTHER HAS ONE AND I WANT TO HAVE IT TOO',\n",
       " '\"August 21st is such an emotional day forme, drive was put onSpotify, dmd videoreleased, Christians cover and I might be going to url tonight\"',\n",
       " 'Sarah Palin is set to return with an uproarious new stand-up special premiering this Saturday night on HBO',\n",
       " \"The only feminist manifesto  (if I may call it) that am exposed to is the one in Beyonce's flawless\",\n",
       " 'Rolling Stone and The Zone are the best songs on Thursday',\n",
       " \"@user I've been watching Naruto most of my life.This is the last movie.Of course I'll wait that long besides Oct 10 is Naruto's B-day.\",\n",
       " '\"Chiara Atik\\'s The Secret Catcher in 3G\\'s Sips&amp;Scripts, tom @user @ The Gin Mill. New play, cold draft &amp; hot tots. C\\'mon, you know you wanna.\"',\n",
       " 'Whoa. Is Taylor Kitsch seriously going to be at the charity game tomorrow?',\n",
       " 'Zayn left the band on Wednesday The last Canadian show is on a wednesday My first day of school is wednesday   I OFFICIALLY HATE WEDNESDAYS',\n",
       " '\"Thank god for having a sub in 2nd, watched the PLL Halloween special I missed the other night\"',\n",
       " \"U2's Bono reveals he may NEVER play guitar again following horrific bike accident\",\n",
       " 'Democrats defeat Republicans 8-2 in Congressional baseball game tonight.',\n",
       " \"After Wednesday's twilight market check out the lovely local lights like these in Gladesville Drive. Invite friends!\",\n",
       " 'Well said @user If anyone watching this Yakub episode they may think this is the only case whole Indian Judiciary has at the moment.Shame',\n",
       " 'I hope all the fans stayed into the 9th to watch Harper go 0-5. #nats',\n",
       " \"Murray has this. He may not have it at the moment but I'm not worried #USOpen #murray\",\n",
       " '@user @user technically we have school tomorrow, yes no yes, it\\'s not a goodbye it\\'s a cough, Justin Bieber, Pasquina\"',\n",
       " 'Depending on what you thought of Jurassic World, you may or may not like this Kong: Skull Island news',\n",
       " '\"#KissMyAssGreenDayTheBest metallica,iron maiden,ac/dc,avenged sevenfold,killswitch engage,miss may I, the best.\"',\n",
       " 'Special Notice for lefties who try to watch the best show on TV\\\\u002c Justified.  (2nd try melts tv)',\n",
       " '@user Enter our competition to win a London Children\\\\u2019s Map Puzzle just follow and RT.Closes tomorrow @user',\n",
       " \"Not going to be able to watch Federer's match vs Darcis but expect to wake up tomorrow to read of a comprehensive victory for the Swiss.\",\n",
       " 'blow by kesha is the only song acceptable to listen to at school tomorrow',\n",
       " 'Headed to the Honda Classic in Florida (@ Airport Fast Park - Red Lot)',\n",
       " 'Thor and April love the laundry basket. #catsofinstagram',\n",
       " 'it\\\\u2019s a sunday\\\\u002c i think in the spirit of douglas adams and feeling like shit i will have a second bath',\n",
       " '\"Supreme Court. \"\"Gay Marriage.\"\" Kentucky Clerk Jailed.  The Rule of Lawlessness.  Today, a clerk in Kentucky. Tomorrow, the rest of us.\"',\n",
       " '\"They\\'re unveiling me Wednesday at the Yerba Buena Center in SF. Don\\'t know why, but I like the way @user looks at me.\"',\n",
       " 'Panthers WR Benjamin may sit vs. Packers. Will that news effect the spread? Current line is Green Bay -7',\n",
       " 'Gucci bags yourself secret december come the dyad thine particular ultra-ultra ampliation on route to pleading...',\n",
       " '\"It\\'s been a hell of a week, Chuck Norris released a video that claims Obama\\'s 2nd term will bring about armageddon.\"',\n",
       " '\"Day #12 - Monday, 11/12 - Thank a Veteran Day. Brave men and women who have served their country with honor surround us. Find a veteran t...\"',\n",
       " 'I\\\\u2019ve watched the Benji 30 for 30 before and this 2nd time hurt. Kinda hits home. Thinkin bout the homie Darrell. #RIPDT',\n",
       " 'Harry backstage with Niall last night in Cleveland -- Aug 27 (via @user',\n",
       " \"WWE Announcer: HE'S SLITHERING IN... RANDY ORTON IS IN A PLACE WE'VE NEVER SEEN HIM BEFORE! *Randy Orton floating in the 13th dimension*\",\n",
       " 'Gon get smashed! The Nintendo kind though, not the drunk kind. Right?..right?',\n",
       " '@user - Yep. Believe the Indians are in the 10th slot (lost today) and the White Sox are 11th (losing). Tigers 12th.',\n",
       " \"The best CGI in Ant-Man isn't the ant scenes. It's that 1st scene with Michael Douglas' face. #smhowzow\",\n",
       " '\"How\\'s everyone\\'s Saturday night? Don\\'t lie. Ur laying in your bed with your smartphone up in the air, with Sharknado 3 in the background.\"',\n",
       " '\"Ima walk into class tomorrow like Ice Cube did to his auntie house in \"\"Straight Outta Compton\"\" with a binder and all kinds of notebooks.\"',\n",
       " 'Gay couples will try to wed as defiant clerk sits in jail: Several deputy clerks say they will comply with a c...',\n",
       " 'Porto are the only team letting me down! C\\\\u2019mon boys turn this around',\n",
       " 'Samsung Galaxy Note 5 - Best Buy and Amazon slashed price of the Samsung Galaxy Note 4. The reduced price may temp...',\n",
       " 'Hey everyone! If you are competing in districts at Lake Braddock on Monday you need to make sure to do the DECA test by 5pm tomorrow!!',\n",
       " '\"Enjoy a sundae on this Sunday, it\\'s National Ice Cream Day! Make your own all-natural w/ fresh fruits! #icecreamday',\n",
       " '\"As the world marks International Human Rights Day on Thursday, Iran is continuing its execution spree&amp;#160;with the announcement that a\"',\n",
       " \"David Price's 1st win as a Jay! Incredible day at the ballpark!!\",\n",
       " \"I may haven't been close to Louis at MetLife but he didn't seem unhappy at all\",\n",
       " '\"Not sure how to feel about Kendrick\\'s sons coming up. Inspiration is beautiful, but c\\'mon fammm.\"',\n",
       " 'Ice Cube is like 7th on my Greatest MC list and he is #2 in my diss records list.',\n",
       " '\"\\\\\"\"\"\"@MashUpStanleyT: \\\\\"\"\"\"Don\\\\u2019t cry because it\\\\u2019s over. Smile because it happened.\\\\\"\"\"\" - Dr. Seuss\\\\\"\"\"\" Good quote for a Friday!\"',\n",
       " 'Nope. Still half-asleep. More dancing. Seems like a Madonna sort of Monday, so on with a Bonus Song of the Day:',\n",
       " '@user That\\\\u2019s what I figured. We suspect you may be experiencing some issues related to the storm\\\\u002c Maria. We\\\\u2019re working on it! ^DGM',\n",
       " '@user Moto G 3rd Gen with android 5.1, 2GB RAM, upgraded 5MP front &amp; 13MP rear camera, 720P display,4G LTE &amp; water resistant\"',\n",
       " '@user @user All Mountain naming decisions are delegated to Chuck Norris by the 2nd Amendment',\n",
       " '\"Black Friday week is going to be crazy. Iggy, Nicki, 1D, Selena, Eminem and I know I\\'m forgetting someone ???\"',\n",
       " \"David Wright with yet ANOTHER tough play. That short hop wasn't easy to grab. #Mets and Phillies head to the 13th.\",\n",
       " 'so happy tomorrow is Star Wars day!!',\n",
       " \"It's been pouring for 3 days I'm starting to look like one of those twilight characters. Where's that doggon sun yo Damn you Florida.\",\n",
       " 'Paul Dunne tees off in the final group tomorrow at 2:30 pm while Padraig Harrington is off at 2:10 pm...',\n",
       " 'I may exit off twitter and fb  and thug with instagram btw its blonde_lifestyle:insta',\n",
       " 'Last time the #STLCards swept a team was a two game series against the White Sox starting July 21st',\n",
       " 'Taken 2 comes out Friday and the Afghans will have it Saturday guaranteed',\n",
       " '@user fashion tip for everyone at the Derby tomorrow',\n",
       " \"I JUST CAN'T STOP LOVING YOU by MICHAEL JACKSON AND SIEDAH GARRETT was no.3 in the UK charts on 2 September 1987\",\n",
       " 'from September 2nd in Japan: Netflix, Amazon Prime Video + Hulu and all the other streaming services already operating. Which one to choose?',\n",
       " \"@user hey, reckon you'll be free for this tomorrow still? Google+ around 9pm (or earlier if you're back from the game and free).\",\n",
       " '\"Jumping off the Brooklyn Bridge with my hang glider on Sunday. Find a bookie, now taking bets on which state I land in\"',\n",
       " 'Project X on a monday night? Fuck it',\n",
       " 'Just reading this review proves that the Foo Fighters simply rocked Milton Keynes!',\n",
       " '@user So, I take it you will be dressing up like DRose and trying to sneak onto the court tomorrow night?\"',\n",
       " \"May God's love be stronger and longer than the bruises we've collected from (well)meaning Christians.\",\n",
       " '\"We make a million of beats, cause our stories is deep. And fuck tomorrow, as long as the night before was sweet.\" - Jay-Z',\n",
       " 'Goodnight!!!! Aral2 din pag may time! LOGIC is my fave subject!\"',\n",
       " \"Amazon Prime is a lie. It said my stuff would be delivered by Monday. Its Wednesday, and still hasn't arrived. Tracking doesn't make sense.\",\n",
       " \"LF Hanley Ramirez's season may be over after the Red Sox placed him on the 15-day disabled list Saturday with right shoulder inflammation\",\n",
       " '@user February 2\\\\u002c aka Groundhog Day\\\\u002c we can pull it off\\\\u002c right?',\n",
       " \"@user Okay thanks Shawn and I figured it may be a stretch to do it all but never heard mention of it so thought i'd ask you.\",\n",
       " '\"Hi all, if you are anywhere Los Angeles, and are free on Friday, we need U2 fans for on-camera interviews. See prev tweet\"',\n",
       " \"C'mon Art... you /know/ you want to go watch a Conor McGregor or Rhonda Rousey fight...  #DMTalk\",\n",
       " 'every friday evening that starts with watching @user live at Rock Im Park (online stream) is a good friday evening!',\n",
       " 'FIFA is weird sometimes: You may remember the FIFA 12 video where Andy Carroll starting trying to hump Iker Casi...',\n",
       " '23 Aug 00;30 #771NAS Rescue193 returned from Tresco, IoS lifted a casualty with minor injuries to RCH Treliske',\n",
       " 'only 7 net hits at Fenway as the Blue Jays and Red Sox are in the top of teh 9th deadlocked 1-1',\n",
       " \"@user fans freaked out 'cause Shawn just tweet that and starts to think that our fandom may change into Homies\",\n",
       " \"JS News 2 September 2015 - Paul Southwell, Head of Junior School From bears to Batman, the JS's Book Week Parade..\",\n",
       " '@user @user Evidently Kpop fans noticed it awhile ago-it may be too controversial to win now, Uptown Funk is a good choice for VOTY :)\"',\n",
       " '\"NASA to lift the warning over the Georgia Dome on the Oct 25th because they expect \"\"\"\"an atmosphere to be present for the first time ever\"\"\"\"\"',\n",
       " 'Next Friday the best one Ice Cube made',\n",
       " 'George Harrison - Here comes the Sun (live).avi',\n",
       " 'Cant tell from up in the upper deck\\\\u002c but looks like TOB may be wearing skechers to a fb game...',\n",
       " 'Got some great shots of the March Fourth Marching Band tonight at Americaplatz @user they were fantastic!!!!',\n",
       " '\"Why are people still talking about Eid, that was so last Friday\"',\n",
       " \"I'm in love with Efteling! Like a quirky crazy non-PC version of Disneyland. Can't wait to go back tomorrow!\",\n",
       " 'Anyone who Talks shit about the Lakers tomorrow at school and i will make sure i hit u as hard as i possibly can',\n",
       " '@user I think it may have been subbed by Bates. \"\"\"\"Conor Heffernan discusses the bizzare world of Leeds United owner Massimo Cellini\"\"\"\"\"',\n",
       " '@user I want Mark\\\\u2019s thots comparing/contrasting Romney from last nite 2 what may have been Santorum; this from Santorum supporter',\n",
       " 'Omg did yall see that video with kris Jenner dancing to tuesday... Dfl too cute and funny',\n",
       " \"I'm pleased to confirm @user as a special guest on the bill at the Foo Fighters gig in MK tomorrow.\",\n",
       " \"Yakub should be hanged to death tomorrow the Mumbai's culprid else will oppose it by following a black day\",\n",
       " 'The moon rising (Last Quarter) last Friday from the top of the Malahat. - Murray Sharratt Photography',\n",
       " 'I will be out of town and will miss this but you should go! Nuit Blanche #DC event Sept 24 @user',\n",
       " '.@richardgasquet1 honing his game on P3 Court for his match with Federer tomorrow. #USOpen',\n",
       " '@user Hi, may i ask you for your Help. Can you hook me up with used (second hand)  console PS4 or XboxOne ?? Thanks in advance\"',\n",
       " '\"Not Black Enough: Miss Teen USA Talks Being Bullied: On Saturday, 18-year-old Logan West made history when she b...',\n",
       " \"Looks like I'm going to another White Sox game Wednesday night! @user\",\n",
       " 'Looks like my return flight is scheduled for November 9\\\\u002c of course it\\\\u2019s subject to change. At least I\\\\u2019m stranded in Jerusalem\\\\u002c what a city!',\n",
       " '\"I don\\'t normally share personal stuff, BUT, It\\'s after 11:00pm, it\\'s the top of the 9th inning, at the White Sox...',\n",
       " '\"Okay, I forgive the makers of Ant-Man for omitting Jan Pym. It\\'s a funny, exciting, heist film with a lot of honor to dads. Go see it.\"',\n",
       " \".@Microsoft's patch Tuesday incorporated 56 fixes for #security #vulnerabilities - some with active #exploits insane!\",\n",
       " 'Conor McGregor (@TheNotoriousMMA) may just be the @user of Ireland. I wonder if crime rates drop down to 0% there too.',\n",
       " 'Thor the dog loves Tuesday night D&amp;D.',\n",
       " 'How great would it be if they played Stew\\\\u2019s Fiesta Bowl speech before the game tomorrow night?',\n",
       " \"Going to see Amy schumer in Nashville tonight. But don't worry I got your epl plays over on @user\",\n",
       " 'Conor McGregor backed up the talk and won interim gold with 2nd Round TKO.',\n",
       " 'Today In Photos: Courtney Love Shares Sweet Throwback with Kurt Cobain via @user',\n",
       " '\"Watching the Bad Blood premiere at #TheStanGRAMMYs, but planning to release Feeling Myself vid tomorrow.',\n",
       " '\"Estimated 5% of Muslims in Britain r Islamists, Not many u may think,But there r about 6,000,000 Muslims in Britain.That\\'s 300,000 Islamists\"',\n",
       " '@user Sue and I the last 4 Tuesday\\'s have seen The Judge, Gone Girl, Equalizer, and Walk through the Tombstones.\"',\n",
       " 'Michael Babatunde: Super Eagles midfielder expecting 1st child with wife',\n",
       " '\"Miss last Friday\\'s Soundboard, our partnership with @user and @user',\n",
       " ...]"
      ]
     },
     "execution_count": 12,
     "metadata": {},
     "output_type": "execute_result"
    }
   ],
   "source": [
    "train_tweets"
   ]
  },
  {
   "cell_type": "code",
   "execution_count": 16,
   "metadata": {},
   "outputs": [],
   "source": [
    "\n",
    "# vectorizer = CountVectorizer(tokenizer=Tokenizer())  # construct the vectorizer\n",
    "a = Tokenizer()\n",
    "vectorizer = CountVectorizer()\n",
    "vectorizer.fit(train_tweets)  # Learn the vocabulary\n",
    "X_train = vectorizer.transform(train_tweets)  # extract training set bags of words\n",
    "X_test = vectorizer.transform(test_tweets)  # extract test set bags of words"
   ]
  },
  {
   "cell_type": "markdown",
   "metadata": {},
   "source": [
    "The fit() method sets the vectorizer up by extracting a vocabulary from some text data. \n",
    "\n",
    "QUESTION: Why do we fit the CountVectorizer on the training set?\n",
    "\n",
    "The vectorizer stores the vocabulary as a dictionary that maps a token to its index in the feature vector. The code below looks up the indexes of some example words:"
   ]
  },
  {
   "cell_type": "code",
   "execution_count": 17,
   "metadata": {},
   "outputs": [
    {
     "name": "stdout",
     "output_type": "stream",
     "text": [
      "37894\n",
      "18241\n",
      "34972\n",
      "Vocabulary size = 43358\n"
     ]
    }
   ],
   "source": [
    "import reprlib\n",
    "\n",
    "vocabulary = vectorizer.vocabulary_\n",
    "print(vocabulary['the'])\n",
    "print(vocabulary['horse'])\n",
    "print(vocabulary['smile'])\n",
    "\n",
    "print(f'Vocabulary size = {len(vocabulary)}')"
   ]
  },
  {
   "cell_type": "markdown",
   "metadata": {},
   "source": [
    "# 2. Naive Bayes Classifier\n",
    "\n",
    "The code above has obtained the feature vectors and lists of labels. The data is now ready for use\n",
    "with scikit-learn's classifiers.\n",
    "\n",
    "Scikit-learn contains several different variants of naïve Bayes for different kinds of data. For our bag of words data, we need to use the [MultinomialNB class](https://scikit-learn.org/stable/modules/generated/sklearn.naive_bayes.MultinomialNB.html#sklearn.naive_bayes.MultinomialNB).\n",
    "\n",
    "\n",
    "TODO 2.1: Look at the documentation for MultinomalNB and write code to train a NB classifier using `X_train` and `train_labels`."
   ]
  },
  {
   "cell_type": "code",
   "execution_count": 18,
   "metadata": {},
   "outputs": [
    {
     "data": {
      "text/plain": [
       "MultinomialNB()"
      ]
     },
     "execution_count": 18,
     "metadata": {},
     "output_type": "execute_result"
    }
   ],
   "source": [
    "# WRITE YOUR CODE HERE\n",
    "from sklearn.naive_bayes import MultinomialNB\n",
    "clf = MultinomialNB()\n",
    "clf.fit(X_train,train_labels)\n"
   ]
  },
  {
   "cell_type": "markdown",
   "metadata": {
    "pycharm": {
     "name": "#%% md\n"
    }
   },
   "source": [
    "Now we have a trained model, we would like to evaluate its performance on some test data. \n",
    "\n",
    "TODO 2.2: Refer to the documentation again and predict the labels for the test set. Use `X_test` as the inputs to the classifier."
   ]
  },
  {
   "cell_type": "code",
   "execution_count": 25,
   "metadata": {},
   "outputs": [
    {
     "data": {
      "text/plain": [
       "[<matplotlib.lines.Line2D at 0x2761f5cb9d0>]"
      ]
     },
     "execution_count": 25,
     "metadata": {},
     "output_type": "execute_result"
    },
    {
     "data": {
      "image/png": "[encoded data removed]",
      "text/plain": [
       "<Figure size 640x480 with 1 Axes>"
      ]
     },
     "metadata": {},
     "output_type": "display_data"
    }
   ],
   "source": [
    "# WRITE YOUR CODE HERE\n",
    "import matplotlib.pyplot as plt\n",
    "data = clf.predict(X_test)\n",
    "plt.plot(test_labels,data)"
   ]
  },
  {
   "cell_type": "markdown",
   "metadata": {
    "pycharm": {
     "name": "#%% md\n"
    }
   },
   "source": [
    "We can compute standard metrics for classifier performance using [scikit-learn's metrics libary](https://scikit-learn.org/stable/modules/model_evaluation.html#the-scoring-parameter-defining-model-evaluation-rules). A useful function for multi-class classification (when there are more than two classes) is the [classification report function](https://scikit-learn.org/stable/modules/model_evaluation.html#classification-report).\n",
    "\n",
    "TODO 2.3: Refer again to the documentation, and compute accuracy, precision, recall and F1 scores on the test set. "
   ]
  },
  {
   "cell_type": "code",
   "execution_count": 27,
   "metadata": {
    "pycharm": {
     "name": "#%%\n"
    }
   },
   "outputs": [
    {
     "name": "stdout",
     "output_type": "stream",
     "text": [
      "              precision    recall  f1-score   support\n",
      "\n",
      "     class 0       0.59      0.55      0.57      3972\n",
      "     class 1       0.62      0.58      0.60      5937\n",
      "     class 2       0.50      0.63      0.56      2375\n",
      "\n",
      "    accuracy                           0.58     12284\n",
      "   macro avg       0.57      0.59      0.58     12284\n",
      "weighted avg       0.59      0.58      0.58     12284\n",
      "\n"
     ]
    }
   ],
   "source": [
    "# WRITE YOUR CODE HERE\n",
    "from sklearn.metrics import classification_report\n",
    "target_names = ['class 0', 'class 1', 'class 2']\n",
    "print(classification_report(test_labels, data, target_names=target_names))"
   ]
  },
  {
   "cell_type": "markdown",
   "metadata": {
    "pycharm": {
     "name": "#%% md\n"
    }
   },
   "source": [
    "Now, let's examine the classifier that we learned. If you don't follow what's happening here, you may wish to refer back to the slides on naïve Bayes classifiers or to [Jurafsky and Martin's textbook](https://web.stanford.edu/~jurafsky/slp3/4.pdf). \n",
    "\n",
    "Previously, we trained a MultinomialNB classifier. The trained classifier object stores all the probabilities that it learned during training, which are needed to make predictions. The log of the likelihoods of each word given the class are represented by the attribute `feature_log_prob_`. So, if your classifier object is named `classifier`, you can access the likelihoods with `classifier.feature_log_prob_`.\n",
    "\n",
    "TODO 2.4: Print out the likelihood of the words 'happy' and 'hate' in each class. Hint: look up the index of the chosen words in `vocabulary`. The rows of `feature_log_prob` correspond to classes, and the columns to words."
   ]
  },
  {
   "cell_type": "code",
   "execution_count": 36,
   "metadata": {
    "collapsed": false,
    "jupyter": {
     "outputs_hidden": false
    },
    "pycharm": {
     "name": "#%%\n"
    }
   },
   "outputs": [
    {
     "name": "stdout",
     "output_type": "stream",
     "text": [
      "758\n",
      "3675\n",
      "[5.49426399e-06 4.72657921e-06 2.69029101e-06]\n",
      "[1.09885280e-05 7.08986881e-06 2.69029101e-06]\n"
     ]
    }
   ],
   "source": [
    "import numpy as np\n",
    "\n",
    "### CHANGE THE NAME OF THE CLASSIFIER VARIABLE BELOW TO USE YOUR TRAINED CLASSIFIER\n",
    "feat_likelihoods = np.exp(clf.feature_log_prob_)  # Use exponential to convert the logs back to probabilities\n",
    "###\n",
    "type(vocabulary)\n",
    "# WRITE YOUR CODE HERE\n",
    "if 'happy' in vocabulary:\n",
    "   print(list(vocabulary).index('happy'))\n",
    "if 'hate' in vocabulary:\n",
    "   print(list(vocabulary).index('hate'))\n",
    "\n",
    "print(feat_likelihoods[:,756])\n",
    "print(feat_likelihoods[:,3675])"
   ]
  },
  {
   "cell_type": "markdown",
   "metadata": {
    "pycharm": {
     "name": "#%% md\n"
    }
   },
   "source": [
    "The sentiment classes are negative (0), neutral (1) and positive (2). \n",
    "\n",
    "QUESTION: Which class has the strongest association with 'happy' and with 'hate'?\n",
    "\n",
    "A key part of evaluating a classifier is investigating the errors it makes to better understand its limitations. \n",
    "\n",
    "TODO 2.5: Complete the code below to print out some misclassified tweets along with their predicted and true labels."
   ]
  },
  {
   "cell_type": "code",
   "execution_count": 38,
   "metadata": {
    "collapsed": false,
    "jupyter": {
     "outputs_hidden": false
    },
    "pycharm": {
     "name": "#%%\n"
    }
   },
   "outputs": [
    {
     "ename": "NameError",
     "evalue": "name 'gold_err' is not defined",
     "output_type": "error",
     "traceback": [
      "\u001b[1;31m---------------------------------------------------------------------------\u001b[0m",
      "\u001b[1;31mNameError\u001b[0m                                 Traceback (most recent call last)",
      "Cell \u001b[1;32mIn[38], line 11\u001b[0m\n\u001b[0;32m      6\u001b[0m \u001b[39m### WRITE YOUR CODE HERE\u001b[39;00m\n\u001b[0;32m      7\u001b[0m \n\u001b[0;32m      8\u001b[0m \u001b[39m####\u001b[39;00m\n\u001b[0;32m     10\u001b[0m \u001b[39mfor\u001b[39;00m i \u001b[39min\u001b[39;00m \u001b[39mrange\u001b[39m(\u001b[39m10\u001b[39m):  \u001b[39m# just print the first ten\u001b[39;00m\n\u001b[1;32m---> 11\u001b[0m     \u001b[39mprint\u001b[39m(\u001b[39mf\u001b[39m\u001b[39m'\u001b[39m\u001b[39mTweet: \u001b[39m\u001b[39m{\u001b[39;00mtweets_err[i]\u001b[39m}\u001b[39;00m\u001b[39m; true label = \u001b[39m\u001b[39m{\u001b[39;00mgold_err[i]\u001b[39m}\u001b[39;00m\u001b[39m, prediction = \u001b[39m\u001b[39m{\u001b[39;00mpred_err[i]\u001b[39m}\u001b[39;00m\u001b[39m.\u001b[39m\u001b[39m'\u001b[39m)\n",
      "\u001b[1;31mNameError\u001b[0m: name 'gold_err' is not defined"
     ]
    }
   ],
   "source": [
    "error_indexes = data != test_labels  # compare predictions to gold labels\n",
    "\n",
    "# get the text of tweets where the classifier made an error:\n",
    "tweets_err = np.array(test_tweets)[error_indexes]\n",
    "\n",
    "### WRITE YOUR CODE HERE\n",
    "\n",
    "####\n",
    "\n",
    "for i in range(10):  # just print the first ten\n",
    "    print(f'Tweet: {tweets_err[i]}; true label = {gold_err[i]}, prediction = {pred_err[i]}.')"
   ]
  },
  {
   "cell_type": "markdown",
   "metadata": {
    "pycharm": {
     "name": "#%% md\n"
    }
   },
   "source": [
    "# 3. Logistic Regression Classifier\n",
    "\n",
    "Another simple, linear classifier is logistic regression. This classifier does not rely on the conditional independence assumption, so can better model features that are highly correlated with each other. Scikit-learn provides the [logisticRegression class](https://scikit-learn.org/stable/modules/generated/sklearn.linear_model.LogisticRegression.html), which has a very similar interface to the naïve Bayes classifier.\n",
    "\n",
    "TODO 3.1: Train a logistic regression classifier, referring to the scikit-learn documentation as required."
   ]
  },
  {
   "cell_type": "code",
   "execution_count": null,
   "metadata": {
    "collapsed": false,
    "jupyter": {
     "outputs_hidden": false
    },
    "pycharm": {
     "name": "#%%\n"
    }
   },
   "outputs": [],
   "source": [
    "# WRITE YOUR CODE HERE\n"
   ]
  },
  {
   "cell_type": "markdown",
   "metadata": {},
   "source": [
    "TODO 3.2: Obtain predictions on the test set."
   ]
  },
  {
   "cell_type": "code",
   "execution_count": null,
   "metadata": {
    "collapsed": false,
    "jupyter": {
     "outputs_hidden": false
    },
    "pycharm": {
     "name": "#%%\n"
    }
   },
   "outputs": [],
   "source": [
    "# WRITE YOUR CODE HERE\n"
   ]
  },
  {
   "cell_type": "markdown",
   "metadata": {},
   "source": [
    "TODO 3.3: Compute accuracy, precision, recall and F1 scores on the test set using [scikit-learn's metrics libary.](https://scikit-learn.org/stable/modules/model_evaluation.html#the-scoring-parameter-defining-model-evaluation-rules)"
   ]
  },
  {
   "cell_type": "code",
   "execution_count": null,
   "metadata": {
    "collapsed": false,
    "jupyter": {
     "outputs_hidden": false
    },
    "pycharm": {
     "name": "#%%\n"
    }
   },
   "outputs": [],
   "source": [
    "# WRITE YOUR CODE HERE\n"
   ]
  },
  {
   "cell_type": "markdown",
   "metadata": {
    "pycharm": {
     "name": "#%% md\n"
    }
   },
   "source": [
    "QUESTION: How does the performance of logistic regression compare with naïve Bayes?\n",
    "\n",
    "The logistic regression classifier works by learning a weight for each feature that indicates its importance in predicting a class. These weights are stored in the `coef_` attribute of the LogisticRegression object, which has rows corresponding to classes, and columns corresponding to words in the vocabulary. \n",
    "\n",
    "TODO 3.4: Print out the weights for 'happy' and 'hate' for each class."
   ]
  },
  {
   "cell_type": "code",
   "execution_count": null,
   "metadata": {},
   "outputs": [],
   "source": [
    "### WRITE YOUR CODE HERE\n"
   ]
  },
  {
   "cell_type": "markdown",
   "metadata": {},
   "source": [
    "QUESTION: Are the weights what you would expect to see?\n",
    "\n",
    "The code below prints out the words with the highest weights for each class. We use numpy's `argsort` function to get the indexes of the sorted weights. Run the code below to show the result: "
   ]
  },
  {
   "cell_type": "code",
   "execution_count": null,
   "metadata": {
    "collapsed": false,
    "jupyter": {
     "outputs_hidden": false
    },
    "pycharm": {
     "name": "#%%\n"
    }
   },
   "outputs": [],
   "source": [
    "n_feats_to_show = 10\n",
    "\n",
    "# Flip the index so that values are keys and keys are values:\n",
    "keys = vectorizer.vocabulary_.values()\n",
    "values = vectorizer.vocabulary_.keys()\n",
    "vocab_inverted = dict(zip(keys, values))\n",
    "\n",
    "for c, weights_c in enumerate(classifier.coef_):\n",
    "    print(f'\\nWeights for class {c}:\\n')\n",
    "    strongest_idxs = np.argsort(weights_c)[-n_feats_to_show:]\n",
    "\n",
    "    for idx in strongest_idxs:\n",
    "        print(f'{vocab_inverted[idx]} with weight {weights_c[idx]}')"
   ]
  },
  {
   "cell_type": "markdown",
   "metadata": {},
   "source": [
    "TODO 3.5: Use the same code as for naïve Bayes to print out examples of misclassified tweets and their labels. Hint: you should be able to compy and paste your code from above :) "
   ]
  },
  {
   "cell_type": "code",
   "execution_count": null,
   "metadata": {
    "collapsed": false,
    "jupyter": {
     "outputs_hidden": false
    },
    "pycharm": {
     "name": "#%%\n"
    }
   },
   "outputs": [],
   "source": [
    "error_indexes = y_test_pred != test_labels  # compare predictions to gold labels\n",
    "\n",
    "# get the text of tweets where the classifier made an error:\n",
    "tweets_err = np.array(test_tweets)[error_indexes]\n",
    "\n",
    "### WRITE YOUR CODE HERE\n",
    "\n",
    "###\n",
    "\n",
    "for i in range(10):  # just print the first ten\n",
    "    print(f'Tweet: {tweets_err[i]}; true label = {gold_err[i]}, prediction = {pred_err[i]}.')"
   ]
  },
  {
   "cell_type": "markdown",
   "metadata": {
    "pycharm": {
     "name": "#%% md\n"
    }
   },
   "source": [
    "# 4. Optional: Lemmatization and N-grams\n",
    "\n",
    "You only need to do this section if you finish the previous sections before the end of the lab.\n",
    "\n",
    "In the previous lab, we tried out lemmatization. This is useful for reducing the size of the vocabulary. Could it help us here?\n",
    "\n",
    "To apply lemmatization, we have to go back to the CountVectorizer and define a new tokenizer that will carry out the extra step of lemmatization. Run the code below to test this out:"
   ]
  },
  {
   "cell_type": "code",
   "execution_count": null,
   "metadata": {},
   "outputs": [],
   "source": [
    "from nltk import word_tokenize          \n",
    "from nltk.stem import WordNetLemmatizer \n",
    "\n",
    "class LemmaTokenizer(object):\n",
    "    \n",
    "    def __init__(self):\n",
    "        self.wnl = WordNetLemmatizer()\n",
    "        \n",
    "    def __call__(self, tweets):\n",
    "        return [self.wnl.lemmatize(self.wnl.lemmatize(self.wnl.lemmatize(tok, pos='n'), pos='v'), pos='a') for tok in word_tokenize(tweets)]\n",
    "    \n",
    "vectorizer = CountVectorizer(tokenizer=LemmaTokenizer())\n",
    "\n",
    "vectorizer.fit(train_tweets)\n",
    "X_train = vectorizer.transform(train_tweets)\n",
    "X_test = vectorizer.transform(test_tweets)\n",
    "\n",
    "# Print out some of the features in the vocabulary:\n",
    "print(list(vectorizer.vocabulary_)[:20])"
   ]
  },
  {
   "cell_type": "code",
   "execution_count": null,
   "metadata": {},
   "outputs": [],
   "source": [
    "print(f'Vocabulary size: {len(vectorizer.vocabulary_)}')"
   ]
  },
  {
   "cell_type": "markdown",
   "metadata": {},
   "source": [
    "TODO 4.1: Now, repeat your training of the logistic regression using the new features, and compare its performance with the previous classifers."
   ]
  },
  {
   "cell_type": "code",
   "execution_count": null,
   "metadata": {
    "collapsed": false,
    "jupyter": {
     "outputs_hidden": false
    },
    "pycharm": {
     "name": "#%%\n"
    }
   },
   "outputs": [],
   "source": [
    "### WRITE YOUR OWN CODE HERE\n"
   ]
  },
  {
   "cell_type": "markdown",
   "metadata": {},
   "source": [
    "QUESTION: Did lemmatization bring about any improvements on this dataset?\n",
    "\n",
    "The bag of words is a very simple representation of the tweets that does not capture enough information to make accurate sentiment classifications. Another way to improve it could be to use bigrams instead of single words as our features. Bigrams are pairs of words that occur one after another in the text. Bigrams are a kind of 'n-gram', where 'n=2'. \n",
    "\n",
    "To extract bigrams, we again modify our CountVectorizer. This class has a parameter `ngram_range`, which determines the range of sizes of n-grams the vectorizer will include. If we set `ngram_range=(1,1)` we have our standard bag of words. If we set it to `ngram_range=(2,2)`, we use bigrams instead. Choosing If we set `ngram_range=(1,2)` will use both single tokens (unigrams) and bigrams.\n",
    "\n",
    "TODO 4.2: Create a new CountVectorizer that extracts bigram features instead of unigrams (single tokens) and uses the LemmaTokenizer."
   ]
  },
  {
   "cell_type": "code",
   "execution_count": null,
   "metadata": {
    "collapsed": false,
    "jupyter": {
     "outputs_hidden": false
    },
    "pycharm": {
     "name": "#%%\n"
    }
   },
   "outputs": [],
   "source": [
    "### WRITE YOUR CODE HERE\n",
    "vectorizer = \n",
    "###\n",
    "\n",
    "vectorizer.fit(train_tweets)\n",
    "X_train = vectorizer.transform(train_tweets)\n",
    "X_test = vectorizer.transform(test_tweets)\n",
    "\n",
    "\n",
    "# Print out some of the features in the vocabulary:\n",
    "print(list(vectorizer.vocabulary_)[:20])"
   ]
  },
  {
   "cell_type": "markdown",
   "metadata": {},
   "source": [
    "TODO 4.3: Now, repeat your training of the logistic regression or naïve Bayes classifier using the new features, and compare its performance with the previous classifers."
   ]
  },
  {
   "cell_type": "code",
   "execution_count": null,
   "metadata": {
    "collapsed": false,
    "jupyter": {
     "outputs_hidden": false
    },
    "pycharm": {
     "name": "#%%\n"
    }
   },
   "outputs": [],
   "source": [
    "### WRITE YOUR OWN CODE HERE\n"
   ]
  },
  {
   "cell_type": "markdown",
   "metadata": {
    "jupyter": {
     "outputs_hidden": false
    },
    "pycharm": {
     "name": "#%%\n"
    }
   },
   "source": [
    "QUESTION: Do bigrams improve performance on this dataset?\n",
    "\n",
    "# 5. Optional: Lexicon Features\n",
    "\n",
    "You only need to do this part if you finish the other parts before the end of the lab session. \n",
    "\n",
    "The NLTK library contains sentiment lexicons, which are lists of words with negative or positive connotations. "
   ]
  },
  {
   "cell_type": "code",
   "execution_count": null,
   "metadata": {},
   "outputs": [],
   "source": [
    "import nltk\n",
    "from nltk.sentiment.vader import SentimentIntensityAnalyzer\n",
    "\n",
    "nltk.download('vader_lexicon')\n",
    "\n",
    "analyser = SentimentIntensityAnalyzer()"
   ]
  },
  {
   "cell_type": "markdown",
   "metadata": {},
   "source": [
    "Now have a look at the sentiment scores for some words in the lexicon by running the code below. What do the scores mean and why do some words have no score?"
   ]
  },
  {
   "cell_type": "code",
   "execution_count": null,
   "metadata": {},
   "outputs": [],
   "source": [
    "testwords = ['happy', 'wonderful', 'horrible', 'boring', 'tablecloth', 'not']\n",
    "\n",
    "for word in testwords:\n",
    "    if word in analyser.lexicon:\n",
    "        print(f'{word}: {analyser.lexicon[word]}')\n",
    "    else:\n",
    "        print(f'{word}: NOT IN LEXICON')"
   ]
  },
  {
   "cell_type": "markdown",
   "metadata": {},
   "source": [
    "Now we would like to use this function to compute counts of all positive and negative words. Let's start by recording whether the words in our vocabulary are positive or negative:"
   ]
  },
  {
   "cell_type": "code",
   "execution_count": null,
   "metadata": {},
   "outputs": [],
   "source": [
    "# get the Vader lexicon scores for each word in our vocabulary\n",
    "vectorizer = CountVectorizer(tokenizer=Tokenizer())\n",
    "\n",
    "vectorizer.fit(train_tweets)\n",
    "X_train = vectorizer.transform(train_tweets)\n",
    "X_test = vectorizer.transform(test_tweets)\n",
    "\n",
    "# Print out some of the features in the vocabulary:\n",
    "print(list(vectorizer.vocabulary_)[:20])\n",
    "\n",
    "vocabulary = vectorizer.vocabulary_\n",
    "\n",
    "lex_pos_scores = np.zeros((1, len(vocabulary)))\n",
    "lex_neg_scores = np.zeros((1, len(vocabulary)))\n",
    "\n",
    "for i, term in enumerate(vocabulary):\n",
    "    if term in analyser.lexicon and analyser.lexicon[term] > 0:\n",
    "        lex_pos_scores[0, i] = 1\n",
    "    elif term in analyser.lexicon and analyser.lexicon[term] < 0:\n",
    "        lex_neg_scores[0, i] = 1"
   ]
  },
  {
   "cell_type": "markdown",
   "metadata": {},
   "source": [
    "Now let's compute the counts of positive and negative words in the dataset:"
   ]
  },
  {
   "cell_type": "code",
   "execution_count": null,
   "metadata": {},
   "outputs": [],
   "source": [
    "# Compute the scores for each instance in the data set. \n",
    "\n",
    "# Multiply the lexicon scores by the feature vectors, then sum over the \n",
    "# vocabulary to get the total positive and total negative counts:\n",
    "lex_pos_train = np.sum(X_train.multiply(lex_pos_scores), axis=1)\n",
    "lex_pos_test = np.sum(X_test.multiply(lex_pos_scores), axis=1)\n",
    "\n",
    "lex_neg_train = np.sum(X_train.multiply(lex_neg_scores), axis=1)\n",
    "lex_neg_test = np.sum(X_test.multiply(lex_neg_scores), axis=1)"
   ]
  },
  {
   "cell_type": "markdown",
   "metadata": {},
   "source": [
    "Finally, we can append the counts to the feature vector and treat them as extra features:"
   ]
  },
  {
   "cell_type": "code",
   "execution_count": null,
   "metadata": {},
   "outputs": [],
   "source": [
    "from scipy.sparse import hstack\n",
    "\n",
    "X_train = hstack((X_train, lex_pos_train, lex_neg_train))\n",
    "X_test = hstack((X_test, lex_pos_test, lex_neg_test))"
   ]
  },
  {
   "cell_type": "markdown",
   "metadata": {},
   "source": [
    "TODO 5.1: Use the new X_train and X_test feature vectors to train and evaluate your classifier. \n",
    "Does adding the lexicon features improve performance?"
   ]
  },
  {
   "cell_type": "code",
   "execution_count": null,
   "metadata": {},
   "outputs": [],
   "source": [
    "### WRITE YOUR OWN CODE HERE\n"
   ]
  },
  {
   "cell_type": "code",
   "execution_count": null,
   "metadata": {},
   "outputs": [],
   "source": []
  }
 ],
 "metadata": {
  "kernelspec": {
   "display_name": "data_analytics",
   "language": "python",
   "name": "data_analytics"
  },
  "language_info": {
   "codemirror_mode": {
    "name": "ipython",
    "version": 3
   },
   "file_extension": ".py",
   "mimetype": "text/x-python",
   "name": "python",
   "nbconvert_exporter": "python",
   "pygments_lexer": "ipython3",
   "version": "3.9.16"
  }
 },
 "nbformat": 4,
 "nbformat_minor": 4
}
